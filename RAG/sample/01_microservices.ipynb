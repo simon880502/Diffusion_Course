{
 "cells": [
  {
   "cell_type": "markdown",
   "id": "435d8ba0-b2ad-4f79-8d7b-370c0b88010a",
   "metadata": {
    "editable": true,
    "id": "435d8ba0-b2ad-4f79-8d7b-370c0b88010a",
    "slideshow": {
     "slide_type": ""
    },
    "tags": []
   },
   "source": [
    "<center><a href=\"https://www.nvidia.com/en-us/training/\"><img src=\"https://dli-lms.s3.amazonaws.com/assets/general/DLI_Header_White.png\" width=\"400\" height=\"186\" /></a></center>\n"
   ]
  },
  {
   "cell_type": "markdown",
   "id": "REpUhcdU-Qo0",
   "metadata": {
    "id": "REpUhcdU-Qo0"
   },
   "source": [
    "<br>\n",
    "\n",
    "# <font color=\"#76b900\">Notebook 1: 課程環境</font>\n",
    "\n",
    "<br>\n",
    "\n",
    "在這個模組中，我們將花一些時間介紹課程環境，了解一些設置要求、工作流程和考量事項。\n",
    "\n",
    "__注意__ ： 這個 notebook，雖然可以透過 ***Google Colab*** 存取，但強烈依賴 ***DLI 課程環境*** 來正確執行所有程式碼區塊(Cell)。然而，由於這個部分沒有待辦事項，主要是作為理解幕後運作的工具，僅僅閱讀這個 notebook 不會影響太多體驗。因此，我們預設保留了我們執行時的程式碼區塊(Cell)輸出。\n",
    "\n",
    "__建議__ ： 建議您稍微熟悉一下課程環境，但這是可選的。您可以稍後再進行。__當您不使用環境時，我們建議關閉您的環境！__\n",
    "\n",
    "\n",
    "\n",
    "<br>\n",
    "\n",
    "### **學習目標：**\n",
    "\n",
    "- 透過環境創建方式和組織原因的角度來了解課程環境。\n",
    "- 了解如何使用 Jupyter Labs 介面與周圍的微服務(MICROSERVICES)透過活躍的網路連接埠進行互動。\n",
    "\n",
    "\n",
    "<br>\n",
    "\n",
    "### **值得思考的問題：**\n",
    "\n",
    "1. 您預期這門課程的環境會有什麼樣的資源，它與您的本地計算環境有何不同？\n",
    "2. 如果您的其中一個微服務(MICROSERVICES)在另一個主機環境（公開存取或受限制）上運行，情況會有多大不同？\n",
    "    - __相同想法，不同問題__：儘管由遠端主機提供服務，要模擬本地微服務(MICROSERVICES)的功能有多困難，這樣做有什麼固有的缺點嗎？\n",
    "3. 您實際上需要在每個使用者基礎上啟動哪些類型的微服務(MICROSERVICES)，哪些類型最好持續運行？\n",
    "\n",
    "<br>"
   ]
  },
  {
   "cell_type": "markdown",
   "id": "60bac59f-c4ec-450e-a267-766bc09d02ae",
   "metadata": {
    "id": "60bac59f-c4ec-450e-a267-766bc09d02ae"
   },
   "source": [
    "<br>\n",
    "\n",
    "## **歡迎來到您的雲端環境**\n",
    "\n",
    "這是一個 Jupyter Labs 環境，您可以用它來處理課程內容。在大多數課程中，這個環境將是一個既定的介面，所有必要的組件都已在背景中運行。為了幫助激發進一步的探索，這門課程也將使用它作為理解微服務流程協調管理(Orchestration)的入口 - 特別是針對以 **大型語言模型(Large Language Models, LLMs)** 為中心的應用程式。讓我們從探索您雲端會話的關鍵組件開始。\n",
    "\n",
    "\n"
   ]
  },
  {
   "cell_type": "markdown",
   "id": "k7E6HHSHpFiZ",
   "metadata": {
    "id": "k7E6HHSHpFiZ"
   },
   "source": [
    "<!-- <img src=\"https://drive.google.com/uc?export=view&id=11MGA5fkwA1XQAglQYQbOgjGTImO3TkLS\" width=800/> -->\n",
    "<!-- <img src=\"imgs/simple-env.png\" width=800/> -->\n",
    "> <img src=\"https://dli-lms.s3.amazonaws.com/assets/s-fx-15-v1/imgs/simple-env.png\" width=800px/>\n",
    "\n"
   ]
  },
  {
   "cell_type": "markdown",
   "id": "cc03e1bf-64cb-436e-9db1-4be537dab390",
   "metadata": {
    "id": "cc03e1bf-64cb-436e-9db1-4be537dab390"
   },
   "source": [
    "\n",
    "<br>\n",
    "\n",
    "## __第一部分：__ 託管(Hosting)容器\n",
    "\n",
    "當您存取這個 Jupyter Notebook 時，NVIDIA DLI（深度學習學院）會為您在 AWS 或 Azure 等雲端平台上分配一個實體(Instance)。這個雲端實體(Instance)構成您的基礎雲端環境，包括：\n",
    "\n",
    "- 專用的 CPU，可能還有 GPU，用於處理。\n",
    "- 預安裝的基礎作業系統。\n",
    "- 一些可透過已知網址存取的公開連接埠。\n",
    "\n",
    "雖然這為您提供了開始所需的所有必要資源，但預設情況下它本質上只是一個空白畫布。如果我們想要，我們可以執行一些預設例程來下載一些資源並完全開放環境存取。然而，當其他程序需要在背景中運行時，這可能不是一個好主意。也許我們想要啟動資料庫服務、載入一些大型文件，或者設置一個代理服務(Proxy Service)以進行安全連接。\n",
    "\n",
    "\n"
   ]
  },
  {
   "cell_type": "markdown",
   "id": "dbc4ba1d-f20b-47f2-b37d-ce5247a25c3e",
   "metadata": {
    "id": "dbc4ba1d-f20b-47f2-b37d-ce5247a25c3e"
   },
   "source": [
    "為了將我們的基本設置轉換為具有多樣化程序範圍的功能性開發空間，我們在背景中部署了一系列使用者或系統可以依賴的微服務(MICROSERVICES)。[微服務(Microservices)](https://en.wikipedia.org/wiki/Microservices)是執行特定功能並透過輕量級連接協議進行通訊的自主服務。在您的環境中，這包括 Jupyter Labs 伺服器以及其他幾個可能對調查和實驗有用的服務。\n",
    "<br>\n",
    "\n",
    "\n"
   ]
  },
  {
   "cell_type": "markdown",
   "id": "kq_sYaj68I8a",
   "metadata": {
    "id": "kq_sYaj68I8a"
   },
   "source": [
    "<!-- <img src=\"https://drive.google.com/uc?export=view&id=1r0BH_zROmGosrsUt_hhAY4azXc4wtjea\" width=800/> -->\n",
    "<!-- <img src=\"imgs/docker-ms.png\" width=1000/> -->\n",
    "> <img src=\"https://dli-lms.s3.amazonaws.com/assets/s-fx-15-v1/imgs/docker-ms.png\" width=1000px/>\n",
    "\n"
   ]
  },
  {
   "cell_type": "markdown",
   "id": "aBsNWKXH8Ns0",
   "metadata": {
    "id": "aBsNWKXH8Ns0"
   },
   "source": [
    "利用 [Docker](https://www.docker.com/) 進行微服務流程協調管理(Orchestration)，我們的設置使得添加符合__容器化(CONTAINERIZE)__和__統一性(uniformity)__原則的新微服務(MICROSERVICES)變得相對簡單：\n",
    "\n",
    "- __容器化(Containerization)__ ： 這個過程將每個服務封裝在一個獨立的容器中，包含必要的軟體組件——程式碼、執行時間、函式庫(library)和系統工具。這些容器透過網路連接埠與主機資源和其他服務互動。主要優勢包括：\n",
    "\n",
    "    - __可攜性(Portability)：__ 促進在不同環境中的輕鬆轉移和部署架構(Deployment)。\n",
    "\n",
    "    - __隔離(Isolation)：__ 確保每個容器的獨立運作，最小化服務衝突。\n",
    "\n",
    "    - __可擴展性(Scalability)：__ 簡化服務擴展以滿足不同需求或改變部署架構(Deployment)拓撲的過程（哪些服務在哪些資源上運行、它們位於何處，以及誰在存取它們）。\n",
    "\n",
    "- __統一性(Uniformity)：__ 旨在在不同環境中保持一致的運作，Docker 確保每個微服務(MICROSERVICES)可靠地執行。然而，有一些值得注意的限制：\n",
    "\n",
    "    - __硬體敏感性：__ 在具有不同硬體的環境中，效能可能會有所不同，強調了適應性微服務(MICROSERVICES)設計的需要。\n",
    "\n",
    "    - __環境因素：__ 網路延遲或儲存容量等變數可能會影響容器效率。\n",
    "\n",
    "要更全面地了解 Docker 和微服務流程協調管理(Orchestration)的容器化(CONTAINERIZE)，我們建議您有時間時瀏覽 [Docker 官方文件](https://docs.docker.com/)。理解這些原則對於那些有興趣將抱負轉向實際部署架構(Deployment)的人來說將非常有用。"
   ]
  },
  {
   "cell_type": "markdown",
   "id": "cfd88242-fe97-4bb7-b322-a3a4308a37b4",
   "metadata": {
    "id": "cfd88242-fe97-4bb7-b322-a3a4308a37b4"
   },
   "source": [
    "\n",
    "<br>\n",
    "\n",
    "## __第二部分：__ Jupyter Labs 微服務(MICROSERVICES)\n",
    "\n",
    "\n",
    "現在我們已經討論了一般的微服務(MICROSERVICES)，我們可以專注於您一直在互動的那個： __Jupyter Labs 微服務(MICROSERVICES)__ 。這個互動式網路應用程式允許您使用安裝在遠端主機上的軟體編寫和執行 Python 程式碼（以及許多其他功能）！這對您來說應該已經很熟悉了，就像 [Google Colab](https://colab.research.google.com/?utm_source=scs-index) 等網路服務一樣，但您可能從未考慮過為什麼這個環境存在以及它如何在幕後運作。然而，由於我們正在討論 LLM 應用程式的微服務流程協調管理(Orchestration)，今天是檢視它的好日子！"
   ]
  },
  {
   "cell_type": "markdown",
   "id": "37b6b6b3-d43b-4b1e-ba99-4582984fc378",
   "metadata": {
    "id": "37b6b6b3-d43b-4b1e-ba99-4582984fc378"
   },
   "source": [
    "__問題：__ 為什麼我們課程環境中有 Jupyter Notebook？\n",
    "\n",
    "\n",
    "__答案：__ 在某個 docker-compose 檔案中像 [composer 中的這個](composer/docker-compose.yaml)，一個名為 `jupyter-notebook-server` 的容器被啟動，具有以下配置：\n",
    "\n",
    "\n",
    "```yaml\n",
    "  lab:\n",
    "    container_name: jupyter-notebook-server\n",
    "    build:\n",
    "      context: ..\n",
    "      dockerfile: composer/Dockerfile\n",
    "    ports: # Maps a port on the host to a port in the container.\n",
    "    - \"9010:9010\"\n",
    "    - \"9011:9011\"\n",
    "    - \"9012:9012\"\n",
    "```\n",
    "\n",
    "\n",
    "\n",
    "簡單來說，這個組件創建了一個名為 `jupyter-notebook-server` 的服務，它透過執行 [composer/Dockerfile](composer/Dockerfile) 中的例程從該檔案頂部指定的映像檔（您可能會注意到這是一個預安裝了 `python` 的精簡映像檔）構建而成。\n",
    "\n",
    "在這個構建完成且啟動沒有錯誤後，使用者可以存取正在運行的 Jupyter labs 會話並與提供的介面互動！"
   ]
  },
  {
   "cell_type": "markdown",
   "id": "f9eaced1-aae7-4681-a84b-79e045158d10",
   "metadata": {
    "id": "f9eaced1-aae7-4681-a84b-79e045158d10"
   },
   "source": [
    "\n",
    "\n",
    "<br>\n",
    "\n",
    "## __第三部分：__ 作為主機與微服務(MICROSERVICES)互動\n",
    "\n",
    "\n"
   ]
  },
  {
   "cell_type": "markdown",
   "id": "89757b19-470e-402e-9a93-860c7824e4ae",
   "metadata": {
    "id": "89757b19-470e-402e-9a93-860c7824e4ae"
   },
   "source": [
    "\n",
    "\n",
    "我們已經確定這個呈現 Jupyter 的微服務(MICROSERVICES)存在，而我們現在正在與它互動。那麼...還有什麼其他的嗎？我們之前提到了 [composer/docker-compose.yaml](composer/docker-compose.yaml)，可以調查它來看看作為我們啟動例程的一部分還創建了哪些其他組件。這是因為這個檔案的版本是從主機環境（在微服務(MICROSERVICES)之外）使用類似這樣的命令執行的："
   ]
  },
  {
   "cell_type": "markdown",
   "id": "5a4f801e-6633-4b31-bbdc-3dd234f8b78a",
   "metadata": {
    "id": "5a4f801e-6633-4b31-bbdc-3dd234f8b78a"
   },
   "source": [
    "```sh\n",
    "> docker compose up -d\n",
    "## Building may also happen here if that hasn't happened yet\n",
    "\n",
    "Starting docker_router                 ... done\n",
    "Starting llm_client                    ... done\n",
    "Starting s-fx-15-v1-task4_assessment_1 ... done\n",
    "Recreating jupyter-notebook-server     ... done\n",
    "Recreating frontend                    ... done\n",
    "Recreating s-fx-15-v1-task4_nginx_1    ... done\n",
    "Recreating modifier                    ... done\n",
    ">\n",
    "```\n",
    "\n",
    "\n",
    "..."
   ]
  },
  {
   "cell_type": "markdown",
   "id": "10fd92be-0157-4137-8849-acd054e0ddcd",
   "metadata": {
    "id": "10fd92be-0157-4137-8849-acd054e0ddcd"
   },
   "source": [
    "### __與我們 Jupyter Labs 微服務(MICROSERVICES) 進行外部互動__\n",
    "\n",
    "\n",
    "在我們的微服務(MICROSERVICES)啟動後，我們可以嘗試透過一個簡單的命令從主機環境檢查其他微服務(MICROSERVICES)的狀態：`docker ps -a`（或較不詳細的版本）："
   ]
  },
  {
   "cell_type": "code",
   "execution_count": null,
   "id": "a5d65201-4fcb-418f-bf6f-1dcfd7968a7b",
   "metadata": {
    "id": "a5d65201-4fcb-418f-bf6f-1dcfd7968a7b"
   },
   "outputs": [],
   "source": [
    "'''\n",
    "> docker ps -a\n",
    "CONTAINER ID   IMAGE                            COMMAND                  CREATED          STATUS                   PORTS                                                                     NAMES\n",
    "7eff861362dc   s-fx-15-v1-task4_lab             \"jupyter lab --ip 0.…\"   14 minutes ago   Up 14 minutes            8888/tcp, 0.0.0.0:9010-9012->9010-9012/tcp, :::9010-9012->9010-9012/tcp   jupyter-notebook-server...\n",
    "(too much info)\n",
    "\n",
    "\n",
    ">  docker ps --format \"table {{.Names}}\\t{{.Image}}\\t{{.Ports}}\"\n",
    "NAMES                           IMAGE                            PORTS\n",
    "s-fx-15-v1-task4_nginx_1        nginx:1.15.12-alpine             0.0.0.0:80->80/tcp, :::80->80/tcp\n",
    "frontend                        s-fx-15-v1-task4_frontend        0.0.0.0:8090->8090/tcp, :::8090->8090/tcp\n",
    "jupyter-notebook-server         s-fx-15-v1-task4_lab             8888/tcp, 0.0.0.0:9010-9012->9010-9012/tcp, :::9010-9012->9010-9012/tcp\n",
    "llm_client                      s-fx-15-v1-task4_llm_client      0.0.0.0:9000->9000/tcp, :::9000->9000/tcp\n",
    "docker_router                   s-fx-15-v1-task4_docker_router   0.0.0.0:8070->8070/tcp, :::8070->8070/tcp\n",
    "s-fx-15-v1-task4_assessment_1   s-fx-15-v1-task4_assessment      0.0.0.0:81->8080/tcp, :::81->8080/tcp\n",
    "''';"
   ]
  },
  {
   "cell_type": "markdown",
   "id": "8e9b1cb5-7f2c-4c45-ac94-1c429e44e502",
   "metadata": {
    "id": "8e9b1cb5-7f2c-4c45-ac94-1c429e44e502"
   },
   "source": [
    "\n",
    "\n",
    "這向我們顯示了正在運行的容器列表，並為我們從容器外部與微服務(MICROSERVICES)介面提供了一個不錯的起點。我們可以從這個脈絡資訊(Context)中做的一些事情包括：\n",
    "\n",
    "- 透過 `scp`（安全複製協議）或 `docker cp` 等例程在容器之間移動檔案。\n",
    "    - `docker cp jupyter-notebook-server:/dli/task/paint-cat.jpg .`\n",
    "\n",
    "- 在正在運行的容器中執行命令。\n",
    "    - `docker exec -it jupyter-notebook-server /bin/bash -c \"ls\"`\n",
    "\n",
    "- 查詢容器的日誌以查看其狀態和執行過程。\n",
    "    - `docker logs jupyter-notebook-server`"
   ]
  },
  {
   "cell_type": "markdown",
   "id": "xeb5xYyC9Zo0",
   "metadata": {
    "id": "xeb5xYyC9Zo0"
   },
   "source": [
    "<br>\n",
    "\n",
    "### **從我們 Jupyter Labs 微服務(MICROSERVICES) 進行內部互動**\n",
    "\n",
    "\n",
    "從內部，容器只能透過公開的連接埠和提供給它們的資源與其他容器介面。為了說明這一點，請注意這個 Jupyter Labs notebook 甚至沒有安裝 Docker，更不用說存取主機的 Docker 實體(Instance)：\n",
    "\n"
   ]
  },
  {
   "cell_type": "code",
   "execution_count": null,
   "id": "e67c2a0c-1f14-4c1f-91b2-6f0978ae6a1f",
   "metadata": {
    "id": "e67c2a0c-1f14-4c1f-91b2-6f0978ae6a1f"
   },
   "outputs": [],
   "source": [
    "## Should fail\n",
    "!docker ps -a"
   ]
  },
  {
   "cell_type": "markdown",
   "id": "b71c32c0-76a0-46ce-9d59-838212d7863e",
   "metadata": {
    "id": "b71c32c0-76a0-46ce-9d59-838212d7863e"
   },
   "source": [
    "<br>\n",
    "\n",
    "\n",
    "\n",
    "\n",
    "這對於安全目的來說通常很好，但可能使與其他微服務(MICROSERVICES)的互動變得具有挑戰性。我們從容器內部究竟能做什麼？\n",
    "\n",
    "從主機環境，我們可以透過像 `docker_router` 服務這樣的東西提供一個非常小的通向外部世界的窗口。用於創建服務的確切程式碼可在 [`docker_router/docker_router.py`](docker_router/docker_router.py) 和 [`docker_router/Dockerfile`](docker_router/Dockerfile) 中找到，這將清楚地暗示 `help` 可能是您可以查詢的其中一個功能。以下是一個 shell 網路查詢命令的範例，可用於調用 `help` 程式："
   ]
  },
  {
   "cell_type": "code",
   "execution_count": null,
   "id": "227cc8b4-a4bc-454b-83a6-8f2b8a7bf10c",
   "metadata": {
    "id": "227cc8b4-a4bc-454b-83a6-8f2b8a7bf10c"
   },
   "outputs": [],
   "source": [
    "## Should fail in colab, will work in course environment\n",
    "!curl -v docker_router:8070/help"
   ]
  },
  {
   "cell_type": "markdown",
   "id": "a7304508-c0e5-47c6-8b7f-0c14dfbb0a55",
   "metadata": {
    "id": "a7304508-c0e5-47c6-8b7f-0c14dfbb0a55"
   },
   "source": [
    "<br>\n",
    "\n",
    "\n",
    "\n",
    "上面顯示的 `curl` 介面通常很有用，但對我們的 Python 環境來說有點不夠最佳化。幸運的是，Python 的 `requests` 函式庫(library)提供了更容易使用的工具集，所以我們將使用更 Pythonic 的介面查詢上面暗示的容器路徑，如下所示："
   ]
  },
  {
   "cell_type": "code",
   "execution_count": null,
   "id": "f621869f-68b5-4e09-abaa-132a17b907a8",
   "metadata": {
    "id": "f621869f-68b5-4e09-abaa-132a17b907a8"
   },
   "outputs": [],
   "source": [
    "## Should fail in colab, will work in course environment\n",
    "import requests\n",
    "\n",
    "## Curl request. Best for shell environments\n",
    "# !curl -v docker_router:8070/containers\n",
    "\n",
    "## Print all running containers\n",
    "# requests.get(\"http://docker_router:8070/containers\").json()\n",
    "\n",
    "## Print the running microservices\n",
    "for entry in requests.get(\"http://docker_router:8070/containers\").json():\n",
    "    if entry.get(\"status\") == 'running':\n",
    "        print(entry.get(\"name\"))"
   ]
  },
  {
   "cell_type": "markdown",
   "id": "2b13ef3c-08d3-4594-8643-e3fb972a224e",
   "metadata": {
    "id": "2b13ef3c-08d3-4594-8643-e3fb972a224e"
   },
   "source": [
    "<br>\n",
    "\n",
    "\n",
    "從這裡，我們至少可以知道還有哪些其他微服務(MICROSERVICES)正在運行，並可以考慮它們的目的可能是什麼：\n",
    "\n",
    "- __docker_router__ ：我們正在互動以找到這些資訊的服務。\n",
    "- __jupyter-notebook-server__ ：我們討論過的運行這個 Jupyter 會話的服務。\n",
    "- __frontend__ ：可能是某種網路介面...\n",
    "- __llm_client__ ：可能是某種 llm 伺服器？\n",
    "- __s-fx-<...>__ ：一些背景服務（資料載入器(Data Loader)、代理服務(Proxy Service)、評量(Assessment)管理器），將不會討論。"
   ]
  },
  {
   "cell_type": "markdown",
   "id": "a1766852-8dff-4d85-bdf0-a3bf74f9136a",
   "metadata": {},
   "source": [
    "<!-- <img src=\"imgs/environment.png\" width=800/> -->\n",
    "> <img src=\"http://dli-lms.s3.amazonaws.com/assets/s-fx-15-v1/imgs/environment.png\" width=800px/>\n",
    "\n",
    "\n"
   ]
  },
  {
   "cell_type": "markdown",
   "id": "qmzY5HQUpuLM",
   "metadata": {
    "id": "qmzY5HQUpuLM"
   },
   "source": [
    "\n",
    "\n",
    "除了最後幾個組件，關於這些組件的所有詳細資訊都可以再次在 [`composer`](composer)  目錄中找到。"
   ]
  },
  {
   "cell_type": "markdown",
   "id": "05bc6b5d-e055-4b0b-86d4-0003f73a615d",
   "metadata": {
    "id": "05bc6b5d-e055-4b0b-86d4-0003f73a615d"
   },
   "source": [
    "\n",
    "\n",
    "<br>\n",
    "\n",
    "## __第四部分：__ 檢查我們的前端\n",
    "\n",
    "\n",
    "比什麼都重要的是，這個 notebook 在這裡是為了開放環境供探索，並提供一些潛在的方向來查看微服務(MICROSERVICES)構建細節是否有興趣。由於您可能會在整個課程中與其中一些微服務(MICROSERVICES)互動，了解它們是如何製作的希望會非常有用！\n",
    "\n",
    "既然我們在這裡，為什麼不考慮我們需要互動的另一個主要微服務(MICROSERVICES)： __前端__ 。這個微服務(MICROSERVICES)將託管(Hosting)一個您需要為最終評量(Assessment)介面的網頁。請執行以下 curl 命令來確認您的前端服務已啟動並正在運行！"
   ]
  },
  {
   "cell_type": "code",
   "execution_count": null,
   "id": "5609e1fd-5648-491d-af82-b678d2702bad",
   "metadata": {},
   "outputs": [],
   "source": [
    "## Commented out by default since it will yield a lot of output\n",
    "# !curl -v frontend:8090"
   ]
  },
  {
   "cell_type": "markdown",
   "id": "247e4f79-6d12-491a-bb4b-cf260a53e14a",
   "metadata": {},
   "source": [
    "\n",
    "\n",
    "該命令應該返回 `200 OK` 回應以及一個網頁（即，以 `<!doctype html>` 開頭的回應），這作為一個有用的健康檢查，但不是使用者友好的。要存取網頁：\n",
    "\n",
    "- __原始連接埠存取（預設）__ ，您需要透過在瀏覽器中輸入 `http://<...>.courses.nvidia.com:8090` 來將您的 URL 更改為使用非預設連接埠 `8090`。雖然這種方法有效，但它會導致一個基本的介面，有一些限制，例如可能阻止存取的連接埠保護機制、由於與預設伺服器設置的不完整整合而導致的功能減少，以及向使用者公開原始連接埠的潛在安全風險。\n",
    "\n",
    "- __反向代理存取(Reverse-Proxy Access)__ ，不同的連接埠被反向代理並映射到 `http://<...>.courses.nvidia.com/8090`（我們將使用 `8091`，因為應用程式程式碼必須更改）。反向代理是有益的，因為它對使用者隱藏原始連接埠，透過減少後端服務的直接暴露來增強安全性。它簡化了 URL 結構，使使用者更容易存取服務而無需記住特定的連接埠號碼。此外，反向代理能夠更好的負載平衡和更容易的 SSL 證書管理，提供更無縫和安全的使用者體驗。詳細資訊超出課程範圍，但請隨時查看 [__composer/nginx.conf__](composer/nginx.conf)  和 [__frontend/frontend_server_rproxy.py__](frontend/frontend_server_rproxy.py)。\n",
    "\n",
    "__您可以執行下面的程式碼區塊(Cell)來生成連結：__"
   ]
  },
  {
   "cell_type": "code",
   "execution_count": null,
   "id": "51ffc2aa-7973-411b-9211-c07af4638771",
   "metadata": {},
   "outputs": [],
   "source": [
    "%%js\n",
    "var url = 'http://'+window.location.host+':8090';\n",
    "element.innerHTML = '<a style=\"color:green;\" target=\"_blank\" href='+url+'><h1>< Link To Gradio Frontend ></h1></a>';"
   ]
  },
  {
   "cell_type": "markdown",
   "id": "996763bc-6223-48d4-b3d9-5a1c264b81b7",
   "metadata": {},
   "source": [
    "\n",
    "___在嘗試之前，請注意前端微服務(MICROSERVICES)實際上還不能工作...。在整個課程中，您將有幾個機會與它互動並啟用一些功能，所以請確保您在這些組件的課程環境中。___"
   ]
  },
  {
   "cell_type": "markdown",
   "id": "0556556c-b488-49ef-bd26-5dc0006597cc",
   "metadata": {
    "id": "0556556c-b488-49ef-bd26-5dc0006597cc"
   },
   "source": [
    "\n",
    "\n",
    "<br>\n",
    "\n",
    "## __第五部分：__ 總結\n",
    "\n",
    "在驗證這些服務的健康狀況後，您將完成第一個 notebook！\n",
    "\n",
    "### <font color=\"#76b900\">**做得很好！**</font>\n",
    "\n",
    "### __下一步：__\n",
    "1. [可選] 考慮查看與 `composer` 相關的部署架構(Deployment)策略，即整個微服務流程協調管理(Orchestration)。\n",
    "2. [可選] 考慮查看 docker-router 微服務(MICROSERVICES)，了解開放連接路由(Routes)是如何指定的。\n",
    "3. [可選] 重新訪問 notebook 頂部的 **「值得思考的問題」部分**，並思考一些可能的答案。\n",
    "<br>\n",
    "\n",
    "---\n",
    "\n",
    "\n",
    "\n",
    "\n",
    "\n",
    "\n"
   ]
  },
  {
   "cell_type": "markdown",
   "id": "1887394f-26fa-4bdb-82b6-db662a787eb7",
   "metadata": {
    "id": "1887394f-26fa-4bdb-82b6-db662a787eb7"
   },
   "source": [
    "<center><a href=\"https://www.nvidia.com/en-us/training/\"><img src=\"https://dli-lms.s3.amazonaws.com/assets/general/DLI_Header_White.png\" width=\"400\" height=\"186\" /></a></center>\n"
   ]
  }
 ],
 "metadata": {
  "colab": {
   "provenance": []
  },
  "kernelspec": {
   "display_name": "Python 3 (ipykernel)",
   "language": "python",
   "name": "python3"
  },
  "language_info": {
   "codemirror_mode": {
    "name": "ipython",
    "version": 3
   },
   "file_extension": ".py",
   "mimetype": "text/x-python",
   "name": "python",
   "nbconvert_exporter": "python",
   "pygments_lexer": "ipython3",
   "version": "3.11.11"
  }
 },
 "nbformat": 4,
 "nbformat_minor": 5
}
