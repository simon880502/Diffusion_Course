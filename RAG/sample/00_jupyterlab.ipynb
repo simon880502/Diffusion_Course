{
 "cells": [
  {
   "cell_type": "markdown",
   "metadata": {
    "id": "uv-NTNJ_bFDM"
   },
   "source": [
    "<center><a href=\"https://www.nvidia.com/en-us/training/\"><img src=\"https://dli-lms.s3.amazonaws.com/assets/general/DLI_Header_White.png\" width=\"400\" height=\"186\" /></a></center>"
   ]
  },
  {
   "cell_type": "markdown",
   "metadata": {
    "id": "a3qdHasbbFDU"
   },
   "source": [
    "<br>\n",
    "\n",
    "# <font color=\"#76b900\">**Notebook 0:** JupyterLab</font>\n",
    "\n",
    "<br>\n",
    "\n",
    "我們使用 [JupyterLab](https://jupyterlab.readthedocs.io/en/stable/) 來管理這個實作課程練習(Lab)的環境。[JupyterLab 介面](https://jupyterlab.readthedocs.io/en/stable/user/interface.html) 是一個儀表板，提供對互動式 iPython notebook 的存取，以及我們環境的資料夾結構和進入 Ubuntu 作業系統的終端視窗。該視圖包括頂部的**選單列**、**左側邊欄**中的**檔案瀏覽器**，以及最初開啟到「啟動器(Launcher)」頁面的**主要工作區域**。\n",
    "\n",
    "<br>\n",
    "<!-- <img src=\"https://drive.google.com/uc?export=view&id=1FJHrWRBc5s5zcZFb19sC-U64qNkf67Jt\"> -->\n",
    "> <img src=\"https://dli-lms.s3.amazonaws.com/assets/s-fx-15-v1/imgs/jl_launcher.png\" width=1000px/>\n",
    "<br>\n",
    "\n",
    "### **一些注意事項：**\n",
    "\n",
    "\n",
    "-   您可以像任何其他檔案總管一樣訪問(Navigate)檔案瀏覽器。雙擊任何項目將開啟一個包含其內容的新分頁。\n",
    "-   主要工作區域包括開啟檔案的分頁視圖，可以根據需要關閉、移動和編輯。\n",
    "-   這些 notebook，包括這個，包含一系列內容和程式碼**程式碼區塊**。要在程式碼區塊中執行程式碼，在突出顯示程式碼區塊時按 `Shift+Enter` 或上方選單列中的「執行」按鈕。有時，內容程式碼區塊會切換到編輯模式，在這種情況下，您可以按 `Shift+Enter` 將其改回可讀形式。\n",
    "\n",
    "**嘗試執行下面程式碼區塊中的簡單列印語句。**"
   ]
  },
  {
   "cell_type": "code",
   "execution_count": null,
   "metadata": {
    "id": "FapSM5sUbFDV"
   },
   "outputs": [],
   "source": [
    "# Highlight this cell and click [Shift+Enter] to execute\n",
    "print('This is just a simple print statement')"
   ]
  },
  {
   "cell_type": "markdown",
   "metadata": {
    "id": "o1YordFBjAy0"
   },
   "source": [
    "\n",
    "\n",
    "<br>\n",
    "\n",
    "\n",
    "## **特殊語法**\n",
    "\n",
    "\n",
    "這門課程使用一些中級 Python 語法，包括一些需要澄清的隱式假設。隨著課程的進展，我們會確保澄清大部分這些內容，但以下組件可能有助於提前了解：\n",
    "\n",
    "**Input、密碼和Secrets**：\n",
    "\n",
    "-   可能會使用 `input` 和 `getpass`，這將導致輸入(input)欄位在 notebook 程式碼區塊下方彈出。 ***如果輸入(input)請求是開啟的，而您嘗試執行另一個程式碼區塊，您的 notebook 將在輸入(input)程式碼區塊處停滯，或者彈出錯誤會告訴您完成您的輸入(input)*** 。如果發生這種情況，請使用方形 (  $\\square$  ) 按鈕或輸入提示(prompt)繼續。以下是一個範例：\n",
    "\n"
   ]
  },
  {
   "cell_type": "code",
   "execution_count": null,
   "metadata": {
    "colab": {
     "base_uri": "https://localhost:8080/"
    },
    "executionInfo": {
     "elapsed": 7749,
     "status": "ok",
     "timestamp": 1702746049560,
     "user": {
      "displayName": "Vadim Kudlay",
      "userId": "00553664172613290122"
     },
     "user_tz": 360
    },
    "id": "wunSuseud2qf",
    "outputId": "92c63cd6-e342-499f-d566-18706d3fd35d"
   },
   "outputs": [],
   "source": [
    "from getpass import getpass\n",
    "from pydantic import SecretStr\n",
    "\n",
    "first_name = input(\"Enter your name: \")\n",
    "print(f\"Hello {first_name}\\n\")   ## F-strings. Commonly used to fill in variables\n",
    "\n",
    "secret = SecretStr(getpass(\"Please tell me a secret: \"))\n",
    "print(\"Your secret is:\", secret)  ## Another way to print multiple values. sep=\" \" is default\n",
    "# print(\"Your secret value is:\", secret.get_secret_value())"
   ]
  },
  {
   "cell_type": "markdown",
   "metadata": {
    "id": "1r1GI9bHd2Kj"
   },
   "source": [
    "**多行分組：**\n",
    "\n",
    "-   在 Python 中，這是一種對製表符和換行敏感的語言，一些組件可以使用括號分組。當您將程式碼分佈在多行上時，換行將被解釋為空格，如下所示："
   ]
  },
  {
   "cell_type": "code",
   "execution_count": null,
   "metadata": {
    "colab": {
     "base_uri": "https://localhost:8080/",
     "height": 103
    },
    "executionInfo": {
     "elapsed": 166,
     "status": "ok",
     "timestamp": 1702746239412,
     "user": {
      "displayName": "Vadim Kudlay",
      "userId": "00553664172613290122"
     },
     "user_tz": 360
    },
    "id": "JmikhG6ifIfN",
    "outputId": "201861d2-0dd8-40c2-9807-c20eb551ebfa"
   },
   "outputs": [],
   "source": [
    "################################################################################\n",
    "## Implicit string concatenation. Interpretted as `print( \"Hello\" \"World\" )`\n",
    "print(\n",
    "    \"Hello\" \"World\"\n",
    ")\n",
    "\n",
    "################################################################################\n",
    "## Implicit string concatenation. Interpretted as `print( \"5\" \" \" \"8\" )`\n",
    "print((\n",
    "    \"5\" \" \"\n",
    "    \"8\"\n",
    "))\n",
    "\n",
    "print(\n",
    "    5 +\n",
    "    6\n",
    ")\n",
    "\n",
    "################################################################################\n",
    "## The below line is considered bad syntax, and the cell will fail to evaluate\n",
    "# 5 +\n",
    "# 6\n",
    "\n",
    "################################################################################\n",
    "## The following forcefully tries to run contents of the following line:\n",
    "try:\n",
    "    eval(\"5 + \\n6\")\n",
    "except Exception as e:\n",
    "    print(e)\n",
    "\n",
    "################################################################################\n",
    "## Useful example, where lines can be commented out to remove functionality:\n",
    "(\n",
    "    f\"Hello {first_name}\"\n",
    "        .upper()\n",
    "        + '!!'\n",
    "        # '!!!'    ## Uncomment to add even more. Useful for organizing\n",
    "        ' It\\'s so nice to meet you!'\n",
    "\n",
    ")"
   ]
  },
  {
   "cell_type": "markdown",
   "metadata": {
    "id": "1CLJ-qrdqqEi"
   },
   "source": [
    "-----\n",
    "\n",
    "<br>\n",
    "\n",
    "## **總結**\n",
    "\n",
    "\n",
    "現在我們已經掌握了基礎知識，我們準備開始課程！請繼續觀看下一個影片，然後是 `01_environment.ipynb`，您將在那裡了解課程的環境設置！\n",
    "\n",
    "### <font color=\"#76b900\">**祝您好運！**</font>\n",
    "\n",
    "<br>\n",
    "\n",
    "---"
   ]
  },
  {
   "cell_type": "markdown",
   "metadata": {
    "id": "Eg5-HvX6bFDW"
   },
   "source": [
    "<center><a href=\"https://www.nvidia.com/dli\"> <img src=\"https://dli-lms.s3.amazonaws.com/assets/general/DLI_Header_White.png\" alt=\"Header\" style=\"width: 400px;\"/> </a></center>"
   ]
  }
 ],
 "metadata": {
  "colab": {
   "provenance": []
  },
  "kernelspec": {
   "display_name": "Python 3 (ipykernel)",
   "language": "python",
   "name": "python3"
  },
  "language_info": {
   "codemirror_mode": {
    "name": "ipython",
    "version": 3
   },
   "file_extension": ".py",
   "mimetype": "text/x-python",
   "name": "python",
   "nbconvert_exporter": "python",
   "pygments_lexer": "ipython3",
   "version": "3.11.11"
  }
 },
 "nbformat": 4,
 "nbformat_minor": 4
}
