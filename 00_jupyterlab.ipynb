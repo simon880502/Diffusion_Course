{
 "cells": [
  {
   "cell_type": "markdown",
   "metadata": {},
   "source": [
    "<center><a href=\"https://www.nvidia.com/dli\"> <img src=\"images/DLI_Header.png\" alt=\"Header\" style=\"width: 400px;\"/> </a></center>"
   ]
  },
  {
   "cell_type": "markdown",
   "metadata": {},
   "source": [
    "# JupyterLab\n",
    "\n",
    "在這個實作課程中，我們使用 [JupyterLab](https://jupyterlab.readthedocs.io/en/stable/) 來管理環境。 [JupyterLab 介面](https://jupyterlab.readthedocs.io/en/stable/user/interface.html) 是一個儀表板，提供存取互動式 iPython 筆記本、環境的資料夾結構，以及一個 Ubuntu 作業系統的終端視窗（terminal window））。您看到的第一個畫面包括頂部的 選單列(menu bar)、左側邊欄的 檔案瀏覽器(file browser)，以及初始開啟的「啟動器（ Launcher\"）」頁面作為 主要工作區域(main work area)。\n",
    "\n",
    "<img src=\"images/jl_launcher.png\">\n",
    "\n",
    "檔案瀏覽器可以像其他檔案總管一樣進行導航。雙擊任意資料將會以新標籤頁開啟其內容。\n",
    "\n",
    "主要工作區域包含開啟檔案的分頁視圖，可以根據需要關閉、移動和編輯。\n",
    "\n",
    "這些Notebooks，包括這個，都是由一系列內容和程式碼 程式碼區塊(**Cell**) 組成。要執行程式碼區塊中的程式碼，請在區塊被選中時按下 `Shift+Enter` 或選單列上方的「執行」按鈕。有時，內容區塊會切換到編輯模式。按下 `Shift+Enter` 可以將其切換回可讀形式。\n",
    "\n",
    "嘗試執行下方程式碼區塊中的簡單 print 陳述式。\n"
   ]
  },
  {
   "cell_type": "code",
   "execution_count": null,
   "metadata": {},
   "outputs": [],
   "source": [
    "# Highlight this cell and click [Shift+Enter] to execute\n",
    "print('This is just a simple print statement')"
   ]
  },
  {
   "cell_type": "markdown",
   "metadata": {},
   "source": [
    "## 清除 GPU 記憶體"
   ]
  },
  {
   "cell_type": "markdown",
   "metadata": {},
   "source": [
    "\n",
    "\n",
    "有時您需要清除 GPU 的記憶體，無論是當實驗出錯時重設 GPU 狀態，還是之間的筆記本之間需要為新一組練習提供乾淨的開始。\n",
    "\n",
    "清除 GPU 記憶體有三種主要方法。第一種是使用選單上方筆記本直接上方的 ⟳ 按鈕。點擊它，您應該會看到一個提示詢問是否可以重設 GPU 記憶體。\n",
    "\n",
    "第二種方法是通過我們將在每個筆記本末端提供的程式碼區塊。以下是其中一個您可以執行的程式碼區塊，以便養成正確的習慣。\n",
    "\n"
   ]
  },
  {
   "cell_type": "code",
   "execution_count": null,
   "metadata": {},
   "outputs": [],
   "source": [
    "import IPython\n",
    "app = IPython.Application.instance()\n",
    "app.kernel.do_shutdown(True)"
   ]
  },
  {
   "cell_type": "markdown",
   "metadata": {},
   "source": [
    "\n",
    "第三種方法是使用左側核心選單上的黑色圓圈內有白色方塊的圖示。雖然前兩種策略可能被視為「軟重置(\"soft\" reset)」，但這種方法更像是強制「硬重置」(\"hard\" stop)。"
   ]
  },
  {
   "cell_type": "markdown",
   "metadata": {},
   "source": [
    "<center><a href=\"https://www.nvidia.com/dli\"> <img src=\"images/DLI_Header.png\" alt=\"Header\" style=\"width: 400px;\"/> </a></center>"
   ]
  }
 ],
 "metadata": {
  "kernelspec": {
   "display_name": "Python 3 (ipykernel)",
   "language": "python",
   "name": "python3"
  },
  "language_info": {
   "codemirror_mode": {
    "name": "ipython",
    "version": 3
   },
   "file_extension": ".py",
   "mimetype": "text/x-python",
   "name": "python",
   "nbconvert_exporter": "python",
   "pygments_lexer": "ipython3",
   "version": "3.10.6"
  }
 },
 "nbformat": 4,
 "nbformat_minor": 4
}
