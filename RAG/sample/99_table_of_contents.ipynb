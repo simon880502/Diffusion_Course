{
 "cells": [
  {
   "cell_type": "markdown",
   "metadata": {},
   "source": [
    "<center><a href=\"https://www.nvidia.com/en-us/training/\"><img src=\"https://dli-lms.s3.amazonaws.com/assets/general/DLI_Header_White.png\" width=\"400\" height=\"186\" /></a></center>"
   ]
  },
  {
   "cell_type": "markdown",
   "metadata": {},
   "source": [
    "# <font color=\"#76b900\">**目錄**</font>\n",
    "\n",
    "\n",
    "### **歡迎來到課程！**\n",
    "\n",
    "\n",
    "請訪問(Navigate)各個 notebook，並當有什麼引起您的興趣時，隨時探索其他部分。\n",
    "\n",
    "\n",
    "#### **微服務：**\n",
    "\n",
    "\n",
    "-   **`./chatbot`**: 一個基本的聊天機器人介面，允許多種存取多個模型的方式。\n",
    "    -   **Basic：** 沒有系統訊息，只有 LLM 存取。***源自 Notebook 6 的開發。***\n",
    "    -   **脈絡資訊(Context)：** 在開始時載入指定 notebook 的脈絡資訊(Context)（脈絡資訊(Context)標籤）。***源自 Notebook 6 的開發。***\n",
    "    -   **Agentic：** 嘗試從環境載入 notebook 並對其進行分析推理(Reasoning)。***源自 Notebook 7.5 的開發。***\n",
    "\n",
    "-   **`./composer`**: 用於構建環境的啟動程式。技術上可以用來複製環境（進階使用案例）。\n",
    "\n",
    "-   **`./docker-router`**: 一個輔助微服務（用於進階使用/助教幫助）。也用於促進評量(Assessment)。\n",
    "\n",
    "-   **`./frontend`**: 一個課程專用的聊天機器人視窗，將在整個課程中使用，***包括最終評量(Assessment)。***\n",
    "\n",
    "-   **`./llm_client`**: 啟用對 [`build.nvidia.com`](build.nvidia.com) 的 API 存取，該網站託管 NVIDIA NIM 端點(Endpoints)。在 notebook 6+ 中使用。\n",
    "\n",
    "\n",
    "\n",
    "#### **快取**\n",
    "\n",
    "\n",
    "-   **`./imgs`**: 課程中的圖片（在 notebook 中使用）。\n",
    "\n",
    "-   **`./slides`**: 重要投影片。\n",
    "\n",
    "-   **`./solutions`**: 練習的解決方案。"
   ]
  },
  {
   "cell_type": "markdown",
   "metadata": {},
   "source": [
    "<br>\n",
    "\n",
    "## 使用課程聊天機器人\n"
   ]
  },
  {
   "cell_type": "code",
   "execution_count": null,
   "metadata": {},
   "outputs": [],
   "source": [
    "%%js\n",
    "var url = 'http://'+window.location.host+':8999';\n",
    "element.innerHTML = '<a style=\"color:#76b900;\" target=\"_blank\" href='+url+'><h2>< Link To Gradio Chatbot ></h2></a>';"
   ]
  },
  {
   "cell_type": "markdown",
   "metadata": {},
   "source": [
    "<br>\n",
    "\n",
    "## 使用課程練習前端"
   ]
  },
  {
   "cell_type": "code",
   "execution_count": null,
   "metadata": {},
   "outputs": [],
   "source": [
    "%%js\n",
    "var url = 'http://'+window.location.host+':8090';\n",
    "element.innerHTML = '<a style=\"color:#76b900;\" target=\"_blank\" href='+url+'><h2>< Link To Gradio Frontend ></h2></a>';"
   ]
  },
  {
   "cell_type": "markdown",
   "metadata": {},
   "source": [
    "<br>\n",
    "\n",
    "## 使用 Docker-Router 讀取日誌(Logs)"
   ]
  },
  {
   "cell_type": "code",
   "execution_count": null,
   "metadata": {},
   "outputs": [],
   "source": [
    "import requests\n",
    "\n",
    "for entry in requests.get(\"http://docker_router:8070/containers\").json():\n",
    "    if entry.get(\"status\") == 'running':\n",
    "        print(entry.get(\"name\"))"
   ]
  },
  {
   "cell_type": "code",
   "execution_count": null,
   "metadata": {},
   "outputs": [],
   "source": [
    "service_name = \"chatbot\"  ## Which microservice to look at\n",
    "# from_idx = -4000           ## - to see truncated output\n",
    "from_idx = 0             ## - to see full output\n",
    "print(requests.get(f\"http://docker_router:8070/containers/{service_name}/logs\").json()[\"logs\"][from_idx:])"
   ]
  },
  {
   "cell_type": "markdown",
   "metadata": {},
   "source": [
    "<center><a href=\"https://www.nvidia.com/dli\"> <img src=\"https://dli-lms.s3.amazonaws.com/assets/general/DLI_Header_White.png\" alt=\"Header\" style=\"width: 400px;\"/> </a></center>"
   ]
  }
 ],
 "metadata": {
  "kernelspec": {
   "display_name": "Python 3 (ipykernel)",
   "language": "python",
   "name": "python3"
  },
  "language_info": {
   "codemirror_mode": {
    "name": "ipython",
    "version": 3
   },
   "file_extension": ".py",
   "mimetype": "text/x-python",
   "name": "python",
   "nbconvert_exporter": "python",
   "pygments_lexer": "ipython3",
   "version": "3.11.9"
  }
 },
 "nbformat": 4,
 "nbformat_minor": 4
}
