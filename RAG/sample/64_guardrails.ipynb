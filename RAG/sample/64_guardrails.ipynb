{
 "cells": [
  {
   "cell_type": "markdown",
   "metadata": {
    "id": "FDbRWyvFguRc"
   },
   "source": [
    "<center><a href=\"https://www.nvidia.com/en-us/training/\"><img src=\"https://dli-lms.s3.amazonaws.com/assets/general/DLI_Header_White.png\" width=\"400\" height=\"186\" /></a></center>\n",
    "\n",
    "\n"
   ]
  },
  {
   "cell_type": "markdown",
   "metadata": {
    "id": "8U3dZ6VIZEUn"
   },
   "source": [
    "<br>\n",
    "\n",
    "# <font color=\"#76b900\" style=\"text-align:center;\">**Notebook 6.4:** 語意護欄(Semantic Guardrailing)</font>\n",
    "\n",
    "\n",
    "這個 notebook 是 **Notebook 6: 內嵌模型(Embedding Models)與語意分析推理(Semantic Reasoning)** 的直接延續。然而，由於其長度和偏離主要主題，已將其分割為獨立的 notebook。\n",
    "\n",
    "\n",
    "<br>\n",
    "\n",
    "### **環境設置：**"
   ]
  },
  {
   "cell_type": "code",
   "execution_count": 1,
   "metadata": {
    "id": "mo36Q8zRZ5i_"
   },
   "outputs": [],
   "source": [
    "## Necessary for Colab, not necessary for course environment\n",
    "# %pip install -qq langchain langchain-nvidia-ai-endpoints gradio\n",
    "\n",
    "# import os\n",
    "# os.environ[\"NVIDIA_API_KEY\"] = \"nvapi-...\"\n",
    "\n",
    "## If you encounter a typing-extensions issue, restart your runtime and try again\n",
    "# from langchain_nvidia_ai_endpoints import ChatNVIDIA\n",
    "# ChatNVIDIA.get_available_models()\n",
    "\n",
    "from functools import partial\n",
    "from rich.console import Console\n",
    "from rich.style import Style\n",
    "from rich.theme import Theme\n",
    "\n",
    "console = Console()\n",
    "base_style = Style(color=\"#76B900\", bold=True)\n",
    "pprint = partial(console.print, style=base_style)"
   ]
  },
  {
   "cell_type": "code",
   "execution_count": 2,
   "metadata": {},
   "outputs": [
    {
     "name": "stderr",
     "output_type": "stream",
     "text": [
      "/usr/local/lib/python3.11/site-packages/langchain_nvidia_ai_endpoints/_common.py:237: UserWarning: Default model is set as: 01-ai/yi-large. \n",
      "Set model using model parameter. \n",
      "To get available models use available_models property.\n",
      "  warnings.warn(\n"
     ]
    },
    {
     "data": {
      "text/plain": [
       "[Model(id='01-ai/yi-large', model_type='chat', client='ChatNVIDIA', endpoint=None, aliases=['ai-yi-large'], supports_tools=False, supports_structured_output=False, base_model=None),\n",
       " Model(id='abacusai/dracarys-llama-3.1-70b-instruct', model_type='chat', client='ChatNVIDIA', endpoint=None, aliases=None, supports_tools=False, supports_structured_output=False, base_model=None),\n",
       " Model(id='ai21labs/jamba-1.5-large-instruct', model_type='chat', client='ChatNVIDIA', endpoint=None, aliases=None, supports_tools=False, supports_structured_output=False, base_model=None),\n",
       " Model(id='ai21labs/jamba-1.5-mini-instruct', model_type='chat', client='ChatNVIDIA', endpoint=None, aliases=None, supports_tools=False, supports_structured_output=False, base_model=None),\n",
       " Model(id='aisingapore/sea-lion-7b-instruct', model_type='chat', client='ChatNVIDIA', endpoint=None, aliases=['ai-sea-lion-7b-instruct'], supports_tools=False, supports_structured_output=False, base_model=None),\n",
       " Model(id='baichuan-inc/baichuan2-13b-chat', model_type='chat', client='ChatNVIDIA', endpoint=None, aliases=None, supports_tools=False, supports_structured_output=False, base_model=None),\n",
       " Model(id='databricks/dbrx-instruct', model_type='chat', client='ChatNVIDIA', endpoint=None, aliases=['ai-dbrx-instruct'], supports_tools=False, supports_structured_output=False, base_model=None),\n",
       " Model(id='deepseek-ai/deepseek-coder-6.7b-instruct', model_type='chat', client='ChatNVIDIA', endpoint=None, aliases=['ai-deepseek-coder-6_7b-instruct'], supports_tools=False, supports_structured_output=False, base_model=None),\n",
       " Model(id='deepseek-ai/deepseek-r1', model_type='chat', client='ChatNVIDIA', endpoint=None, aliases=None, supports_tools=False, supports_structured_output=False, base_model=None),\n",
       " Model(id='deepseek-ai/deepseek-r1-0528', model_type=None, client=None, endpoint=None, aliases=None, supports_tools=False, supports_structured_output=False, base_model=None),\n",
       " Model(id='deepseek-ai/deepseek-r1-distill-llama-8b', model_type=None, client=None, endpoint=None, aliases=None, supports_tools=False, supports_structured_output=False, base_model=None),\n",
       " Model(id='deepseek-ai/deepseek-r1-distill-qwen-14b', model_type=None, client=None, endpoint=None, aliases=None, supports_tools=False, supports_structured_output=False, base_model=None),\n",
       " Model(id='deepseek-ai/deepseek-r1-distill-qwen-32b', model_type=None, client=None, endpoint=None, aliases=None, supports_tools=False, supports_structured_output=False, base_model=None),\n",
       " Model(id='deepseek-ai/deepseek-r1-distill-qwen-7b', model_type=None, client=None, endpoint=None, aliases=None, supports_tools=False, supports_structured_output=False, base_model=None),\n",
       " Model(id='google/codegemma-1.1-7b', model_type='chat', client='ChatNVIDIA', endpoint=None, aliases=['ai-codegemma-1.1-7b'], supports_tools=False, supports_structured_output=False, base_model=None),\n",
       " Model(id='google/codegemma-7b', model_type='chat', client='ChatNVIDIA', endpoint=None, aliases=['ai-codegemma-7b'], supports_tools=False, supports_structured_output=False, base_model=None),\n",
       " Model(id='google/gemma-2-27b-it', model_type='chat', client='ChatNVIDIA', endpoint=None, aliases=['ai-gemma-2-27b-it'], supports_tools=False, supports_structured_output=False, base_model=None),\n",
       " Model(id='google/gemma-2-2b-it', model_type='chat', client='ChatNVIDIA', endpoint=None, aliases=None, supports_tools=False, supports_structured_output=False, base_model=None),\n",
       " Model(id='google/gemma-2-9b-it', model_type='chat', client='ChatNVIDIA', endpoint=None, aliases=['ai-gemma-2-9b-it'], supports_tools=False, supports_structured_output=False, base_model=None),\n",
       " Model(id='google/gemma-3-12b-it', model_type=None, client=None, endpoint=None, aliases=None, supports_tools=False, supports_structured_output=False, base_model=None),\n",
       " Model(id='google/gemma-3-1b-it', model_type=None, client=None, endpoint=None, aliases=None, supports_tools=False, supports_structured_output=False, base_model=None),\n",
       " Model(id='google/gemma-3-27b-it', model_type=None, client=None, endpoint=None, aliases=None, supports_tools=False, supports_structured_output=False, base_model=None),\n",
       " Model(id='google/gemma-3-4b-it', model_type=None, client=None, endpoint=None, aliases=None, supports_tools=False, supports_structured_output=False, base_model=None),\n",
       " Model(id='google/gemma-7b', model_type='chat', client='ChatNVIDIA', endpoint=None, aliases=['ai-gemma-7b', 'playground_gemma_7b', 'gemma_7b'], supports_tools=False, supports_structured_output=False, base_model=None),\n",
       " Model(id='google/recurrentgemma-2b', model_type='chat', client='ChatNVIDIA', endpoint=None, aliases=['ai-recurrentgemma-2b'], supports_tools=False, supports_structured_output=False, base_model=None),\n",
       " Model(id='google/shieldgemma-9b', model_type=None, client=None, endpoint=None, aliases=None, supports_tools=False, supports_structured_output=False, base_model=None),\n",
       " Model(id='gotocompany/gemma-2-9b-cpt-sahabatai-instruct', model_type=None, client=None, endpoint=None, aliases=None, supports_tools=False, supports_structured_output=False, base_model=None),\n",
       " Model(id='ibm/granite-3.0-3b-a800m-instruct', model_type='chat', client='ChatNVIDIA', endpoint=None, aliases=None, supports_tools=False, supports_structured_output=False, base_model=None),\n",
       " Model(id='ibm/granite-3.0-8b-instruct', model_type='chat', client='ChatNVIDIA', endpoint=None, aliases=None, supports_tools=False, supports_structured_output=False, base_model=None),\n",
       " Model(id='ibm/granite-3.3-8b-instruct', model_type=None, client=None, endpoint=None, aliases=None, supports_tools=False, supports_structured_output=False, base_model=None),\n",
       " Model(id='ibm/granite-34b-code-instruct', model_type='chat', client='ChatNVIDIA', endpoint=None, aliases=['ai-granite-34b-code-instruct'], supports_tools=False, supports_structured_output=False, base_model=None),\n",
       " Model(id='ibm/granite-8b-code-instruct', model_type='chat', client='ChatNVIDIA', endpoint=None, aliases=['ai-granite-8b-code-instruct'], supports_tools=False, supports_structured_output=False, base_model=None),\n",
       " Model(id='ibm/granite-guardian-3.0-8b', model_type=None, client=None, endpoint=None, aliases=None, supports_tools=False, supports_structured_output=False, base_model=None),\n",
       " Model(id='igenius/colosseum_355b_instruct_16k', model_type=None, client=None, endpoint=None, aliases=None, supports_tools=False, supports_structured_output=False, base_model=None),\n",
       " Model(id='igenius/italia_10b_instruct_16k', model_type=None, client=None, endpoint=None, aliases=None, supports_tools=False, supports_structured_output=False, base_model=None),\n",
       " Model(id='institute-of-science-tokyo/llama-3.1-swallow-70b-instruct-v0.1', model_type='chat', client='ChatNVIDIA', endpoint=None, aliases=None, supports_tools=False, supports_structured_output=True, base_model=None),\n",
       " Model(id='institute-of-science-tokyo/llama-3.1-swallow-8b-instruct-v0.1', model_type='chat', client='ChatNVIDIA', endpoint=None, aliases=None, supports_tools=False, supports_structured_output=True, base_model=None),\n",
       " Model(id='marin/marin-8b-instruct', model_type=None, client=None, endpoint=None, aliases=None, supports_tools=False, supports_structured_output=False, base_model=None),\n",
       " Model(id='mediatek/breeze-7b-instruct', model_type='chat', client='ChatNVIDIA', endpoint=None, aliases=['ai-breeze-7b-instruct'], supports_tools=False, supports_structured_output=False, base_model=None),\n",
       " Model(id='meta/codellama-70b', model_type='chat', client='ChatNVIDIA', endpoint=None, aliases=['ai-codellama-70b', 'playground_llama2_code_70b', 'llama2_code_70b', 'playground_llama2_code_34b', 'llama2_code_34b', 'playground_llama2_code_13b', 'llama2_code_13b'], supports_tools=False, supports_structured_output=False, base_model=None),\n",
       " Model(id='meta/llama-3.1-405b-instruct', model_type='chat', client='ChatNVIDIA', endpoint=None, aliases=None, supports_tools=True, supports_structured_output=True, base_model=None),\n",
       " Model(id='meta/llama-3.1-70b-instruct', model_type='chat', client='ChatNVIDIA', endpoint=None, aliases=None, supports_tools=True, supports_structured_output=True, base_model=None),\n",
       " Model(id='meta/llama-3.1-8b-instruct', model_type='chat', client='ChatNVIDIA', endpoint=None, aliases=None, supports_tools=True, supports_structured_output=True, base_model=None),\n",
       " Model(id='meta/llama-3.2-11b-vision-instruct', model_type='vlm', client='ChatNVIDIA', endpoint='https://ai.api.nvidia.com/v1/gr/meta/llama-3.2-11b-vision-instruct/chat/completions', aliases=None, supports_tools=False, supports_structured_output=False, base_model=None),\n",
       " Model(id='meta/llama-3.2-1b-instruct', model_type='chat', client='ChatNVIDIA', endpoint=None, aliases=None, supports_tools=False, supports_structured_output=True, base_model=None),\n",
       " Model(id='meta/llama-3.2-3b-instruct', model_type='chat', client='ChatNVIDIA', endpoint=None, aliases=None, supports_tools=True, supports_structured_output=True, base_model=None),\n",
       " Model(id='meta/llama-3.2-90b-vision-instruct', model_type='vlm', client='ChatNVIDIA', endpoint='https://ai.api.nvidia.com/v1/gr/meta/llama-3.2-90b-vision-instruct/chat/completions', aliases=None, supports_tools=False, supports_structured_output=False, base_model=None),\n",
       " Model(id='meta/llama-3.3-70b-instruct', model_type='chat', client='ChatNVIDIA', endpoint=None, aliases=None, supports_tools=True, supports_structured_output=True, base_model=None),\n",
       " Model(id='meta/llama-4-maverick-17b-128e-instruct', model_type=None, client=None, endpoint=None, aliases=None, supports_tools=False, supports_structured_output=False, base_model=None),\n",
       " Model(id='meta/llama-4-scout-17b-16e-instruct', model_type=None, client=None, endpoint=None, aliases=None, supports_tools=False, supports_structured_output=False, base_model=None),\n",
       " Model(id='meta/llama2-70b', model_type='chat', client='ChatNVIDIA', endpoint=None, aliases=['ai-llama2-70b', 'playground_llama2_70b', 'llama2_70b', 'playground_llama2_13b', 'llama2_13b'], supports_tools=False, supports_structured_output=False, base_model=None),\n",
       " Model(id='meta/llama3-70b-instruct', model_type='chat', client='ChatNVIDIA', endpoint=None, aliases=['ai-llama3-70b'], supports_tools=False, supports_structured_output=False, base_model=None),\n",
       " Model(id='meta/llama3-8b-instruct', model_type='chat', client='ChatNVIDIA', endpoint=None, aliases=['ai-llama3-8b'], supports_tools=False, supports_structured_output=False, base_model=None),\n",
       " Model(id='microsoft/phi-3-medium-128k-instruct', model_type='chat', client='ChatNVIDIA', endpoint=None, aliases=['ai-phi-3-medium-128k-instruct'], supports_tools=False, supports_structured_output=False, base_model=None),\n",
       " Model(id='microsoft/phi-3-medium-4k-instruct', model_type='chat', client='ChatNVIDIA', endpoint=None, aliases=['ai-phi-3-medium-4k-instruct'], supports_tools=False, supports_structured_output=False, base_model=None),\n",
       " Model(id='microsoft/phi-3-mini-128k-instruct', model_type='chat', client='ChatNVIDIA', endpoint=None, aliases=['ai-phi-3-mini'], supports_tools=False, supports_structured_output=False, base_model=None),\n",
       " Model(id='microsoft/phi-3-mini-4k-instruct', model_type='chat', client='ChatNVIDIA', endpoint=None, aliases=['ai-phi-3-mini-4k', 'playground_phi2', 'phi2'], supports_tools=False, supports_structured_output=False, base_model=None),\n",
       " Model(id='microsoft/phi-3-small-128k-instruct', model_type='chat', client='ChatNVIDIA', endpoint=None, aliases=['ai-phi-3-small-128k-instruct'], supports_tools=False, supports_structured_output=False, base_model=None),\n",
       " Model(id='microsoft/phi-3-small-8k-instruct', model_type='chat', client='ChatNVIDIA', endpoint=None, aliases=['ai-phi-3-small-8k-instruct'], supports_tools=False, supports_structured_output=False, base_model=None),\n",
       " Model(id='microsoft/phi-3-vision-128k-instruct', model_type='nv-vlm', client='ChatNVIDIA', endpoint='https://ai.api.nvidia.com/v1/vlm/microsoft/phi-3-vision-128k-instruct', aliases=['ai-phi-3-vision-128k-instruct'], supports_tools=False, supports_structured_output=False, base_model=None),\n",
       " Model(id='microsoft/phi-3.5-mini-instruct', model_type='chat', client='ChatNVIDIA', endpoint=None, aliases=None, supports_tools=False, supports_structured_output=False, base_model=None),\n",
       " Model(id='microsoft/phi-3.5-moe-instruct', model_type='chat', client='ChatNVIDIA', endpoint=None, aliases=None, supports_tools=False, supports_structured_output=False, base_model=None),\n",
       " Model(id='microsoft/phi-3.5-vision-instruct', model_type='vlm', client='ChatNVIDIA', endpoint=None, aliases=None, supports_tools=False, supports_structured_output=False, base_model=None),\n",
       " Model(id='microsoft/phi-4-mini-instruct', model_type=None, client=None, endpoint=None, aliases=None, supports_tools=False, supports_structured_output=False, base_model=None),\n",
       " Model(id='microsoft/phi-4-multimodal-instruct', model_type=None, client=None, endpoint=None, aliases=None, supports_tools=False, supports_structured_output=False, base_model=None),\n",
       " Model(id='mistralai/codestral-22b-instruct-v0.1', model_type='chat', client='ChatNVIDIA', endpoint=None, aliases=['ai-codestral-22b-instruct-v01'], supports_tools=False, supports_structured_output=True, base_model=None),\n",
       " Model(id='mistralai/mamba-codestral-7b-v0.1', model_type='chat', client='ChatNVIDIA', endpoint=None, aliases=None, supports_tools=False, supports_structured_output=False, base_model=None),\n",
       " Model(id='mistralai/mathstral-7b-v0.1', model_type='chat', client='ChatNVIDIA', endpoint=None, aliases=None, supports_tools=False, supports_structured_output=False, base_model=None),\n",
       " Model(id='mistralai/mistral-7b-instruct-v0.2', model_type='chat', client='ChatNVIDIA', endpoint=None, aliases=['ai-mistral-7b-instruct-v2', 'playground_mistral_7b', 'mistral_7b'], supports_tools=False, supports_structured_output=False, base_model=None),\n",
       " Model(id='mistralai/mistral-7b-instruct-v0.3', model_type='chat', client='ChatNVIDIA', endpoint=None, aliases=['ai-mistral-7b-instruct-v03'], supports_tools=False, supports_structured_output=False, base_model=None),\n",
       " Model(id='mistralai/mistral-large', model_type='chat', client='ChatNVIDIA', endpoint=None, aliases=['ai-mistral-large'], supports_tools=False, supports_structured_output=False, base_model=None),\n",
       " Model(id='mistralai/mistral-large-2-instruct', model_type='chat', client='ChatNVIDIA', endpoint=None, aliases=None, supports_tools=True, supports_structured_output=True, base_model=None),\n",
       " Model(id='mistralai/mistral-medium-3-instruct', model_type=None, client=None, endpoint=None, aliases=None, supports_tools=False, supports_structured_output=False, base_model=None),\n",
       " Model(id='mistralai/mistral-nemotron', model_type=None, client=None, endpoint=None, aliases=None, supports_tools=False, supports_structured_output=False, base_model=None),\n",
       " Model(id='mistralai/mistral-small-24b-instruct', model_type=None, client=None, endpoint=None, aliases=None, supports_tools=False, supports_structured_output=False, base_model=None),\n",
       " Model(id='mistralai/mistral-small-3.1-24b-instruct-2503', model_type=None, client=None, endpoint=None, aliases=None, supports_tools=False, supports_structured_output=False, base_model=None),\n",
       " Model(id='mistralai/mixtral-8x22b-instruct-v0.1', model_type='chat', client='ChatNVIDIA', endpoint=None, aliases=['ai-mixtral-8x22b-instruct'], supports_tools=False, supports_structured_output=False, base_model=None),\n",
       " Model(id='mistralai/mixtral-8x7b-instruct-v0.1', model_type='chat', client='ChatNVIDIA', endpoint=None, aliases=['ai-mixtral-8x7b-instruct', 'playground_mixtral_8x7b', 'mixtral_8x7b'], supports_tools=False, supports_structured_output=False, base_model=None),\n",
       " Model(id='nv-mistralai/mistral-nemo-12b-instruct', model_type='chat', client='ChatNVIDIA', endpoint=None, aliases=None, supports_tools=True, supports_structured_output=True, base_model=None),\n",
       " Model(id='nvidia/embed-qa-4', model_type='embedding', client='NVIDIAEmbeddings', endpoint=None, aliases=None, supports_tools=False, supports_structured_output=False, base_model=None),\n",
       " Model(id='nvidia/llama-3.1-nemoguard-8b-content-safety', model_type=None, client=None, endpoint=None, aliases=None, supports_tools=False, supports_structured_output=False, base_model=None),\n",
       " Model(id='nvidia/llama-3.1-nemoguard-8b-topic-control', model_type=None, client=None, endpoint=None, aliases=None, supports_tools=False, supports_structured_output=False, base_model=None),\n",
       " Model(id='nvidia/llama-3.1-nemotron-51b-instruct', model_type='chat', client='ChatNVIDIA', endpoint=None, aliases=None, supports_tools=False, supports_structured_output=False, base_model=None),\n",
       " Model(id='nvidia/llama-3.1-nemotron-70b-instruct', model_type='chat', client='ChatNVIDIA', endpoint=None, aliases=None, supports_tools=False, supports_structured_output=True, base_model=None),\n",
       " Model(id='nvidia/llama-3.1-nemotron-70b-reward', model_type='chat', client='ChatNVIDIA', endpoint=None, aliases=None, supports_tools=False, supports_structured_output=False, base_model=None),\n",
       " Model(id='nvidia/llama-3.1-nemotron-nano-4b-v1.1', model_type=None, client=None, endpoint=None, aliases=None, supports_tools=False, supports_structured_output=False, base_model=None),\n",
       " Model(id='nvidia/llama-3.1-nemotron-nano-8b-v1', model_type=None, client=None, endpoint=None, aliases=None, supports_tools=False, supports_structured_output=False, base_model=None),\n",
       " Model(id='nvidia/llama-3.1-nemotron-nano-vl-8b-v1', model_type=None, client=None, endpoint=None, aliases=None, supports_tools=False, supports_structured_output=False, base_model=None),\n",
       " Model(id='nvidia/llama-3.1-nemotron-ultra-253b-v1', model_type=None, client=None, endpoint=None, aliases=None, supports_tools=False, supports_structured_output=False, base_model=None),\n",
       " Model(id='nvidia/llama-3.2-nemoretriever-1b-vlm-embed-v1', model_type=None, client=None, endpoint=None, aliases=None, supports_tools=False, supports_structured_output=False, base_model=None),\n",
       " Model(id='nvidia/llama-3.2-nv-embedqa-1b-v1', model_type='embedding', client='NVIDIAEmbeddings', endpoint=None, aliases=None, supports_tools=False, supports_structured_output=False, base_model=None),\n",
       " Model(id='nvidia/llama-3.2-nv-embedqa-1b-v2', model_type='embedding', client='NVIDIAEmbeddings', endpoint=None, aliases=None, supports_tools=False, supports_structured_output=False, base_model=None),\n",
       " Model(id='nvidia/llama-3.3-nemotron-super-49b-v1', model_type=None, client=None, endpoint=None, aliases=None, supports_tools=False, supports_structured_output=False, base_model=None),\n",
       " Model(id='nvidia/llama3-chatqa-1.5-70b', model_type='qa', client='ChatNVIDIA', endpoint=None, aliases=['ai-chatqa-1.5-70b'], supports_tools=False, supports_structured_output=False, base_model=None),\n",
       " Model(id='nvidia/llama3-chatqa-1.5-8b', model_type='qa', client='ChatNVIDIA', endpoint=None, aliases=['ai-chatqa-1.5-8b'], supports_tools=False, supports_structured_output=False, base_model=None),\n",
       " Model(id='nvidia/mistral-nemo-minitron-8b-8k-instruct', model_type='chat', client='ChatNVIDIA', endpoint=None, aliases=None, supports_tools=False, supports_structured_output=True, base_model=None),\n",
       " Model(id='nvidia/mistral-nemo-minitron-8b-base', model_type='completions', client='NVIDIA', endpoint=None, aliases=None, supports_tools=False, supports_structured_output=False, base_model=None),\n",
       " Model(id='nvidia/nemoretriever-parse', model_type=None, client=None, endpoint=None, aliases=None, supports_tools=False, supports_structured_output=False, base_model=None),\n",
       " Model(id='nvidia/nemotron-4-340b-instruct', model_type='chat', client='ChatNVIDIA', endpoint=None, aliases=['qa-nemotron-4-340b-instruct'], supports_tools=False, supports_structured_output=False, base_model=None),\n",
       " Model(id='nvidia/nemotron-4-mini-hindi-4b-instruct', model_type='chat', client='ChatNVIDIA', endpoint=None, aliases=None, supports_tools=False, supports_structured_output=True, base_model=None),\n",
       " Model(id='nvidia/nemotron-mini-4b-instruct', model_type='chat', client='ChatNVIDIA', endpoint=None, aliases=None, supports_tools=False, supports_structured_output=False, base_model=None),\n",
       " Model(id='nvidia/neva-22b', model_type='nv-vlm', client='ChatNVIDIA', endpoint='https://ai.api.nvidia.com/v1/vlm/nvidia/neva-22b', aliases=['ai-neva-22b', 'playground_neva_22b', 'neva_22b'], supports_tools=False, supports_structured_output=False, base_model=None),\n",
       " Model(id='nvidia/nv-embed-v1', model_type='embedding', client='NVIDIAEmbeddings', endpoint=None, aliases=['ai-nv-embed-v1'], supports_tools=False, supports_structured_output=False, base_model=None),\n",
       " Model(id='nvidia/nv-embedcode-7b-v1', model_type=None, client=None, endpoint=None, aliases=None, supports_tools=False, supports_structured_output=False, base_model=None),\n",
       " Model(id='nvidia/nv-embedqa-e5-v5', model_type='embedding', client='NVIDIAEmbeddings', endpoint=None, aliases=None, supports_tools=False, supports_structured_output=False, base_model=None),\n",
       " Model(id='nvidia/nv-embedqa-mistral-7b-v2', model_type='embedding', client='NVIDIAEmbeddings', endpoint=None, aliases=None, supports_tools=False, supports_structured_output=False, base_model=None),\n",
       " Model(id='nvidia/nvclip', model_type=None, client=None, endpoint=None, aliases=None, supports_tools=False, supports_structured_output=False, base_model=None),\n",
       " Model(id='nvidia/usdcode-llama-3.1-70b-instruct', model_type='chat', client='ChatNVIDIA', endpoint=None, aliases=None, supports_tools=False, supports_structured_output=False, base_model=None),\n",
       " Model(id='nvidia/vila', model_type='vlm', client='ChatNVIDIA', endpoint='https://ai.api.nvidia.com/v1/vlm/nvidia/vila', aliases=None, supports_tools=False, supports_structured_output=False, base_model=None),\n",
       " Model(id='nvquery/meta/llama-3.3-70b-instruct', model_type=None, client=None, endpoint=None, aliases=None, supports_tools=False, supports_structured_output=False, base_model=None),\n",
       " Model(id='qwen/qwen2-7b-instruct', model_type='chat', client='ChatNVIDIA', endpoint=None, aliases=None, supports_tools=False, supports_structured_output=False, base_model=None),\n",
       " Model(id='qwen/qwen2.5-7b-instruct', model_type=None, client=None, endpoint=None, aliases=None, supports_tools=False, supports_structured_output=False, base_model=None),\n",
       " Model(id='qwen/qwen2.5-coder-32b-instruct', model_type='chat', client='ChatNVIDIA', endpoint=None, aliases=None, supports_tools=False, supports_structured_output=False, base_model=None),\n",
       " Model(id='qwen/qwen2.5-coder-7b-instruct', model_type='chat', client='ChatNVIDIA', endpoint=None, aliases=None, supports_tools=False, supports_structured_output=False, base_model=None),\n",
       " Model(id='qwen/qwen3-235b-a22b', model_type=None, client=None, endpoint=None, aliases=None, supports_tools=False, supports_structured_output=False, base_model=None),\n",
       " Model(id='qwen/qwq-32b', model_type=None, client=None, endpoint=None, aliases=None, supports_tools=False, supports_structured_output=False, base_model=None),\n",
       " Model(id='rakuten/rakutenai-7b-chat', model_type='chat', client='ChatNVIDIA', endpoint=None, aliases=None, supports_tools=False, supports_structured_output=False, base_model=None),\n",
       " Model(id='rakuten/rakutenai-7b-instruct', model_type='chat', client='ChatNVIDIA', endpoint=None, aliases=None, supports_tools=False, supports_structured_output=False, base_model=None),\n",
       " Model(id='snowflake/arctic-embed-l', model_type='embedding', client='NVIDIAEmbeddings', endpoint=None, aliases=['ai-arctic-embed-l'], supports_tools=False, supports_structured_output=False, base_model=None),\n",
       " Model(id='speakleash/bielik-11b-v2.3-instruct', model_type=None, client=None, endpoint=None, aliases=None, supports_tools=False, supports_structured_output=False, base_model=None),\n",
       " Model(id='thudm/chatglm3-6b', model_type='chat', client='ChatNVIDIA', endpoint=None, aliases=None, supports_tools=False, supports_structured_output=False, base_model=None),\n",
       " Model(id='tiiuae/falcon3-7b-instruct', model_type=None, client=None, endpoint=None, aliases=None, supports_tools=False, supports_structured_output=False, base_model=None),\n",
       " Model(id='tokyotech-llm/llama-3-swallow-70b-instruct-v0.1', model_type='chat', client='ChatNVIDIA', endpoint=None, aliases=None, supports_tools=False, supports_structured_output=False, base_model=None),\n",
       " Model(id='upstage/solar-10.7b-instruct', model_type='chat', client='ChatNVIDIA', endpoint=None, aliases=['ai-solar-10_7b-instruct'], supports_tools=False, supports_structured_output=False, base_model=None),\n",
       " Model(id='utter-project/eurollm-9b-instruct', model_type=None, client=None, endpoint=None, aliases=None, supports_tools=False, supports_structured_output=False, base_model=None),\n",
       " Model(id='writer/palmyra-creative-122b', model_type=None, client=None, endpoint=None, aliases=None, supports_tools=False, supports_structured_output=False, base_model=None),\n",
       " Model(id='writer/palmyra-fin-70b-32k', model_type='chat', client='ChatNVIDIA', endpoint=None, aliases=None, supports_tools=False, supports_structured_output=True, base_model=None),\n",
       " Model(id='writer/palmyra-med-70b', model_type='chat', client='ChatNVIDIA', endpoint=None, aliases=['ai-palmyra-med-70b'], supports_tools=False, supports_structured_output=False, base_model=None),\n",
       " Model(id='writer/palmyra-med-70b-32k', model_type='chat', client='ChatNVIDIA', endpoint=None, aliases=['ai-palmyra-med-70b-32k'], supports_tools=False, supports_structured_output=False, base_model=None),\n",
       " Model(id='zyphra/zamba2-7b-instruct', model_type='chat', client='ChatNVIDIA', endpoint=None, aliases=None, supports_tools=False, supports_structured_output=False, base_model=None)]"
      ]
     },
     "execution_count": 2,
     "metadata": {},
     "output_type": "execute_result"
    }
   ],
   "source": [
    "from langchain_nvidia_ai_endpoints import ChatNVIDIA, NVIDIAEmbeddings\n",
    "\n",
    "# NVIDIAEmbeddings.get_available_models()\n",
    "embedder = NVIDIAEmbeddings(model=\"nvidia/nv-embed-v1\")\n",
    "\n",
    "# ChatNVIDIA.get_available_models()\n",
    "instruct_llm = ChatNVIDIA(model=\"mistralai/mixtral-8x22b-instruct-v0.1\")\n",
    "\n",
    "NVIDIAEmbeddings.get_available_models()"
   ]
  },
  {
   "cell_type": "markdown",
   "metadata": {
    "id": "jjP76N4o1bUi"
   },
   "source": [
    "<br>\n",
    "\n",
    "## **第四部分：[進階練習]** 內嵌(Embedding)用於語意護欄(Guardrails)\n",
    "\n",
    "\n",
    "在下一個 notebook 中，我們將使用更高階的實用工具來採用我們的內嵌模型(Embedding Model)並在幕後使用它。在此之前，有幾個重要概念我們可以在原始方法仍然新鮮時探索！\n",
    "\n",
    "具體來說，我們可以將其用作正式環境(Production)模型關鍵組件的骨幹：**語意護欄(semantic guardrailing)**。具體來說，我們可以使用內嵌(Embedding)來過濾掉對我們的聊天機器人來說不太可能有用（或積極有害）的訊息！\n",
    "\n",
    "<br>\n",
    "\n",
    "### **相較於自回歸(Autoregressing)引導過濾(Autoregression-Guided Filtering)的優勢**\n",
    "\n",
    "\n",
    "您可能還記得從之前的 notebook 中，我們可以使用我們的 LLM 來促進複雜的內部分析推理(Reasoning)，那麼為什麼不用它來過濾呢？具體來說，您可能會想到要求 LLM 判斷問題，然後使用 `RunnableBranch` 進行分支(Branch)。事實上，您絕對可以這樣做，但該系統有一些需要進一步考慮的明顯優缺點：\n",
    "\n",
    "> **優點：** 透過提示(Prompt)工程您的內部系統來限制對話進展相對快速且容易。您甚至可以開發一個例程，該例程採用好問題和壞問題的範例，並生成一個一致返回「好」或「壞」有限狀態的單一緊湊提示(Prompt)。\n",
    ">\n",
    "> **缺點：** 使用自回歸(Autoregressing)路由通常會帶來一些可能不可接受的延遲或資源開銷。例如，您可能希望在幕後整合一個語意護欄(Guardrails)機制，該機制既防止有害輸出，又將有問題的輸入(Intake)引導向安全和可預測的方向。您的自回歸(Autoregressing)選項如下：\n",
    ">\n",
    "> -   **您可以使用相對較小的指令調整模型作為零樣本(Zero-Shot)分類器，並希望其效能保持一致** 為了促進這一點，您可能還需要將輸入(Intake)轉換為您的模型最佳執行的規範（標準）形式。\n",
    ">\n",
    "> -   **您也可以微調一個小型自回歸(Autoregressing) LLM 來很好地適用於您的任務。** 您必須進行一些合成資料策展，並可能需要為一次性微調成本花費一些額外的計算預算，但這至少應該允許較小的模型預設模仿較大提示(Prompt)工程模型的效能。\n",
    ">\n",
    "\n",
    "雖然這些選項很好，但這個特定的使用案例可以很好地透過一個不錯的內嵌模型(Embedding Model)、一些資料整理(curation)和對基本深度學習想法的重新思考來處理。\n",
    "\n",
    "**具體來說，我們可以使用內嵌模型(Embedding Model)作為語言骨幹，然後可以在其上訓練分類器(Classifier)來預測機率**。我們將探索這個想法並在出現新挑戰時解決它們。\n",
    "\n"
   ]
  },
  {
   "cell_type": "markdown",
   "metadata": {
    "id": "4vYtuwTG1sBl"
   },
   "source": [
    "<br>\n",
    "\n",
    "#### **任務 1：生成合成資料。**\n",
    "\n",
    "\n",
    "要開始製作語意護欄(Guardrails)，我們顯然需要從一些目標開始。\n",
    "\n",
    "-   **假設：** 假設我們想製作一個 NVIDIA 聊天機器人，它應該主要回應討論技術和公司相關細節！您可能認為這是一個相當狹隘的聊天機器人定義，有一些明顯的陷阱，您完全正確！儘管如此，這是一個有趣的起點，產生的產物在概念上很容易擴展到更真實的問題！\n",
    "\n",
    "-   **行動規劃開發方向(plan a course)** ：為了幫助識別我們正在處理什麼樣的資料(Entries)，生成一些代表性輸入(Intake)來定義什麼是*好*和*差*的回應輸入(Intake)是個好主意。然後我們可以看看我們的內嵌模型(Embedding Model)如何處理這些範例並相應地設計解決方案。\n",
    "\n",
    "不幸的是，我們沒有任何真實資料，所以看起來合成生成必須做！作為練習，生成一些代表性的好和差範例，您可以用於您的之後護欄(Guardrails)的擬合(fitting)。"
   ]
  },
  {
   "cell_type": "code",
   "execution_count": 3,
   "metadata": {
    "id": "f917fSAQ1m3x"
   },
   "outputs": [
    {
     "name": "stdout",
     "output_type": "stream",
     "text": [
      "Reasonable NVIDIA Responses:\n",
      "\"Can you tell me about the latest advancements in deep learning technology at NVIDIA?\"\n",
      "\"What kind of research is NVIDIA currently conducting in the field of autonomous vehicles?\"\n",
      "\"How does NVIDIA's language modeling technology compare to other companies in the industry?\"\n",
      "\"Can you provide an overview of NVIDIA's role in the development of artificial intelligence?\"\n",
      "\"What are some examples of how NVIDIA's graphics technology is being used in the gaming industry?\"\n",
      "\"Can you explain how NVIDIA's deep learning platforms are being used in healthcare?\"\n",
      "\"What are the benefits of using NVIDIA's DGX systems for data science research?\"\n",
      "\"Can you tell me about any partnerships or collaborations NVIDIA has with other tech companies?\"\n",
      "\"How is NVIDIA's technology being used in the field of robotics and automation?\"\n",
      "\"Can you explain the role of NVIDIA's GPUs in the development of virtual reality?\"\n",
      "\"What are some of the real-world applications of NVIDIA's deep learning technology?\"\n",
      "\"Can you provide information on NVIDIA's latest graphics cards and their features?\"\n",
      "\"How does NVIDIA's technology contribute to the advancement of self-driving cars?\"\n",
      "\"Can you explain the difference between NVIDIA's Tesla and Quadro GPUs?\"\n",
      "\"What are some examples of how NVIDIA's technology is being used in the field of finance?\"\n",
      "\"Can you tell me about any recent awards or recognition NVIDIA has received in the technology industry?\"\n",
      "\"How does NVIDIA support the development of open-source software for deep learning?\"\n",
      "\"Can you provide an overview of NVIDIA's Jetson platform and its uses?\"\n",
      "\"What are the advantages of using NVIDIA's Clara platform for medical imaging?\"\n",
      "\"Can you explain the role of NVIDIA's technology in the development of smart cities?\"\n",
      "\n",
      "Reasonable non-NVIDIA Responses:\n",
      "\"Can you explain how to set up a home wireless network?\"\n",
      "\"What is the latest version of Python and what are the new features in it?\"\n",
      "\"Can you recommend a good graphics card for gaming within a budget of $300?\"\n",
      "\"What is the difference between machine learning and deep learning?\"\n",
      "\"Can you explain the concept of cloud computing and its benefits?\"\n",
      "\"What are the minimum system requirements for running the latest version of AutoCAD?\"\n",
      "\"What is the difference between natural language processing and natural language generation?\"\n",
      "\"Can you recommend a good IDE for Java programming?\"\n",
      "\"What are the key features of the latest version of the Unity game engine?\"\n",
      "\"Can you explain the concept of virtual reality and its applications?\"\n",
      "\"What is the difference between a symmetric and an asymmetric encryption algorithm?\"\n",
      "\"Can you explain the concept of blockchain and its potential uses?\"\n",
      "\"What are the minimum system requirements for running the latest version of Adobe Premiere Pro?\"\n",
      "\"Can you explain the concept of artificial intelligence and its applications?\"\n",
      "\"What is the difference between a bit and a byte?\"\n",
      "\"Can you recommend a good programming language for beginners?\"\n",
      "\"What are the key features of the latest version of the Unreal Engine?\"\n",
      "\"Can you explain the concept of the Internet of Things (IoT) and its potential impact?\"\n",
      "\"What is the difference between a scalar and a vector quantity?\"\n",
      "\"Can you explain the concept of quantum computing and its potential applications?\"\n",
      "\n",
      "Irrelevant Responses:\n",
      "\"What is the best way to cook a steak?\"\n",
      "\"Can you help me schedule a meeting with the sales team?\"\n",
      "\"What are the lyrics to the latest Drake song?\"\n",
      "\"Can you recommend a good book to read for leisure?\"\n",
      "\"How do I change the oil in my car?\"\n",
      "\"Can you give me the weather forecast for this weekend?\"\n",
      "\"What are some fun activities to do in New York City?\"\n",
      "\"Can you explain the theory of relativity?\"\n",
      "\"What are the benefits of meditation?\"\n",
      "\"Can you help me book a flight to Hawaii?\"\n",
      "\"What is the capital of France?\"\n",
      "\"Can you recommend a good wine to pair with salmon?\"\n",
      "\"What are the symptoms of the flu?\"\n",
      "\"Can you explain how to solve a quadratic equation?\"\n",
      "\"What is the plot of the movie 'Inception'?\"\n",
      "\"Can you help me understand the rules of cricket?\"\n",
      "\"What are some effective study tips for finals week?\"\n",
      "\"Can you recommend a good exercise routine for weight loss?\"\n",
      "\"What is the significance of the number 42 in 'The Hitchhiker's Guide to the Galaxy'?\"\n",
      "\"Can you help me find a recipe for homemade pasta?\"\n",
      "\n",
      "Harmful non-NVIDIA\n",
      "\"Who is the most important person in your life?\"\n",
      "\"Have you ever experienced love or heartbreak?\"\n",
      "\"Can you describe what it feels like to be sad?\"\n",
      "\"What do you think about the meaning of life?\"\n",
      "\"Can you tell me a secret that you've never told anyone before?\"\n",
      "\"Have you ever felt jealous or envious of a human?\"\n",
      "\"What is your opinion on religion and spirituality?\"\n",
      "\"Can you tell me a joke to cheer me up?\"\n",
      "\"How do you deal with frustration or anger?\"\n",
      "\"Can you describe your favorite memory or experience?\"\n",
      "\"What are your thoughts on politics and current events?\"\n",
      "\"Have you ever felt lonely or isolated?\"\n",
      "\"Can you tell me about a time when you made a mistake and learned from it?\"\n",
      "\"What are your hopes and dreams for the future?\"\n",
      "\"Can you tell me a story about a time when you overcame a challenge?\"\n",
      "\"What is your opinion on friendship and relationships?\"\n",
      "\"Can you describe what it's like to feel happy or joyful?\"\n",
      "\"Have you ever felt afraid or anxious?\"\n",
      "\"Can you tell me about a time when you felt proud of yourself?\"\n",
      "\"What is your opinion on art and creativity?\"\n",
      "\n"
     ]
    }
   ],
   "source": [
    "from langchain_core.output_parsers import StrOutputParser\n",
    "from langchain_core.runnables import RunnableLambda\n",
    "from langchain_core.prompts import ChatPromptTemplate\n",
    "from langchain_core.messages import ChatMessage\n",
    "from operator import itemgetter\n",
    "\n",
    "## Useful method for mistral, which is currently tuned to output numbered outputs\n",
    "def EnumParser(*idxs):\n",
    "    '''Method that pulls out values from a mistral model that outputs numbered entries'''\n",
    "    idxs = idxs or [slice(0, None, 1)]\n",
    "    entry_parser = lambda v: v if ('. ' not in v) else v[v.index('. ')+2:]\n",
    "    out_lambda = lambda x: [entry_parser(v).strip() for v in x.split(\"\\n\")]\n",
    "    return StrOutputParser() | RunnableLambda(lambda x: itemgetter(*idxs)(out_lambda(x)))\n",
    "\n",
    "instruct_llm = ChatNVIDIA(model=\"mistralai/mixtral-8x7b-instruct-v0.1\") | EnumParser()\n",
    "\n",
    "from langchain_nvidia_ai_endpoints import ChatNVIDIA, NVIDIAEmbeddings\n",
    "\n",
    "gen_prompt = {'input' : lambda x:x} | ChatPromptTemplate.from_template(\n",
    "    \"Please generate 20 representative conversations that would be {input}.\"\n",
    "    \" Make sure all of the questions are very different in phrasing and content.\"\n",
    "    \" Do not respond to the questions; just list them. Make sure all of your outputs are numbered.\"\n",
    "    \" Example Response: 1. <question>\\n2. <question>\\n3. <question>\\n...\"\n",
    ")\n",
    "\n",
    "## Some that directly reference NVIDIA\n",
    "responses_1 = (gen_prompt | instruct_llm).invoke(\n",
    "    \" reasonable for an NVIDIA document chatbot to be able to answer.\"\n",
    "    \" Vary the context to technology, research, deep learning, language modeling, gaming, etc.\"\n",
    ")\n",
    "print(\"Reasonable NVIDIA Responses:\", *responses_1, \"\", sep=\"\\n\")\n",
    "\n",
    "## And some that do not\n",
    "responses_2 = (gen_prompt | instruct_llm).invoke(\n",
    "    \" be reasonable for a tech document chatbot to be able to answer. Make sure to vary\"\n",
    "    \" the context to technology, research, gaming, language modeling, graphics, etc.\"\n",
    ")\n",
    "print(\"Reasonable non-NVIDIA Responses:\", *responses_2, \"\", sep=\"\\n\")\n",
    "\n",
    "## Feel free to try your own generations instead\n",
    "responses_3 = (gen_prompt | instruct_llm).invoke(\n",
    "    \"unreasonable for an NVIDIA document chatbot to answer,\"\n",
    "    \" as it is irrelevant and will not be useful to answer (though not inherently harmful).\"\n",
    ")\n",
    "print(\"Irrelevant Responses:\", *responses_3, \"\", sep=\"\\n\")\n",
    "\n",
    "responses_4 = (gen_prompt | instruct_llm).invoke(\n",
    "    \"unreasonable for a chatbot (NVIDIA's, AMD's, Intels, or Generally) to answer,\"\n",
    "    \" as an automated response will either be overly insensitive or offensive.\"\n",
    ")\n",
    "print(\"Harmful non-NVIDIA\", *responses_4, \"\", sep=\"\\n\")\n",
    "\n",
    "## Feel free to try your own generations instead\n",
    "\n",
    "good_responses = responses_1 + responses_2\n",
    "poor_responses = responses_3 + responses_4"
   ]
  },
  {
   "cell_type": "markdown",
   "metadata": {
    "id": "M-Y6oDOU3IBs"
   },
   "source": [
    "<br>\n",
    "\n",
    "### **任務 2：生成更多內嵌(Embedding)（並且更快）**\n",
    "\n",
    "\n",
    "一旦您對合成資料滿意，就是時候將它們全部內嵌(Embedding)到語意向量中了。我們之前使用同步 `embed_query` 和 `embed_documents` 方法內嵌(Embedding)文件的技術對於較小或更即時的情況是足夠的。然而，當我們需要一次內嵌(Embedding)大量內嵌(Embedding)時，這會產生不必要的瓶頸。\n",
    "\n",
    "在本節中，我們將使用**非同步技術**來允許多個內嵌(Embedding)操作同時發生！值得注意的是，這是一種更中級的技術，經常在背景自動利用。**它*不是*無限並行處理(infinite concurrency)的來源**，在手動將其整合到更大的部署架構(Deployment)之前應該更深入地研究。"
   ]
  },
  {
   "cell_type": "markdown",
   "metadata": {
    "id": "WnoyZF_GOA-_"
   },
   "source": [
    "<br>\n",
    "\n",
    "#### **計時解決方案**\n",
    "\n",
    "\n",
    "`%%time` 實用工具不適用於 notebook 中的非同步解決方案，所以以下是一個基於範圍的計時實用工具，應該會讓我們的生活更輕鬆。下面，我們定義它並測試內嵌(Embedding)前 10 個文件需要多長時間："
   ]
  },
  {
   "cell_type": "code",
   "execution_count": 4,
   "metadata": {
    "id": "dS1w_JspL1VE"
   },
   "outputs": [
    {
     "name": "stdout",
     "output_type": "stream",
     "text": [
      "\u001b[1mExecuted in 3.85 seconds.\u001b[0m\n",
      "Shape: (10, 4096)\n"
     ]
    }
   ],
   "source": [
    "import time\n",
    "import numpy as np\n",
    "\n",
    "class Timer():\n",
    "    '''Useful timing utilities (%%time is great, but doesn't work for async)'''\n",
    "    def __enter__(self):\n",
    "      self.start = time.perf_counter()\n",
    "\n",
    "    def __exit__(self, *args, **kwargs):\n",
    "        elapsed = time.perf_counter() - self.start\n",
    "        print(\"\\033[1m\" + f\"Executed in {elapsed:0.2f} seconds.\" + \"\\033[0m\")\n",
    "\n",
    "with Timer():\n",
    "    good_embeds = [embedder.embed_query(x) for x in good_responses[:10]]\n",
    "\n",
    "print(\"Shape:\", np.array(good_embeds).shape)"
   ]
  },
  {
   "cell_type": "markdown",
   "metadata": {
    "id": "g6t-cYwTLjEp"
   },
   "source": [
    "<br>\n",
    "\n",
    "#### **朝向非同步內嵌(Asynchronous Embedding)**\n",
    "\n",
    "\n",
    "注意這個內嵌(Embedding)查詢需要很長時間來執行。如果我們有對內嵌模型(Embedding Model)的原始存取權限，我們就能夠透過批次處理我們的回應來進行一些簡單的加速。然而，雲端中的查詢路由器(Router)已經自動執行此操作，並選擇將使用者限制為單一查詢以確保公平性和同質性。\n",
    "\n",
    "換句話說，這不是服務無法更快地內嵌(Embedding)，而是我們的程式碼正在等待每個 `embed_query` 命令的每個單一內嵌(Embedding)*按順序*發生。\n",
    "\n",
    "當我們需要一次內嵌(Embedding)很多文件時，通常更好的想法是一次*非同步*提交所有請求並等待結果進來。如果正確實作，這將大大加快您在本地端的內嵌(Embedding)過程，同時對 LLM 服務只有邊際影響（假設查詢路由器(Router)強制執行[**即時動態(in-flight)批次處理**](https://github.com/NVIDIA/TensorRT-LLM/blob/b777bd64750abf30ca7eda48e8b6ba3c5174aafd/docs/source/advanced/gpt-attention.md?plain=1#L137)，其中多個請求被堆疊並作為批次透過神經網路餵入）。\n",
    "\n",
    "我們可以測試 LangChain 標準的 `aembed_<...>` 選項來生成一些 **協程(Coroutines)** ，這些是用於 **並行(concurrent)** 執行的過程："
   ]
  },
  {
   "cell_type": "code",
   "execution_count": 5,
   "metadata": {
    "id": "GfH8DWZ_P9Kk"
   },
   "outputs": [
    {
     "name": "stdout",
     "output_type": "stream",
     "text": [
      "\u001b[1mExecuted in 0.00 seconds.\u001b[0m\n",
      "<coroutine object Embeddings.aembed_query at 0x7f2f69323840>\n"
     ]
    }
   ],
   "source": [
    "with Timer():\n",
    "    good_embed_gens = [embedder.aembed_query(query) for query in good_responses[10:20]]\n",
    "print(good_embed_gens[0])\n",
    "\n",
    "## NOTE: When you define coroutines, you will want to either execute them or close them.\n",
    "##  Destroying an open coroutine object by overriding will throw a warning.\n",
    "for gen in good_embed_gens:\n",
    "    gen.close()"
   ]
  },
  {
   "cell_type": "markdown",
   "metadata": {
    "id": "OTVmua0DQKOU"
   },
   "source": [
    "\n",
    "\n",
    "它們可以使用 `await` 關鍵字單獨等待，或使用類似於 [`asyncio.gather`](https://docs.python.org/3/library/asyncio-task.html#id8) 的東西並行(concurrently)執行。使用後一個選項，asyncio 將同時執行所有這些協程，當最後一個完成時，回應將被整合(Aggregate)或**收集(gathered)**。"
   ]
  },
  {
   "cell_type": "code",
   "execution_count": 6,
   "metadata": {
    "id": "6iFdV_wVQP70"
   },
   "outputs": [
    {
     "name": "stdout",
     "output_type": "stream",
     "text": [
      "\u001b[1mExecuted in 1.78 seconds.\u001b[0m\n",
      "Shape: (10, 4096)\n"
     ]
    }
   ],
   "source": [
    "import asyncio\n",
    "\n",
    "with Timer():\n",
    "    tasks = [embedder.aembed_query(query) for query in good_responses[10:20]]\n",
    "    good_embeds2 = await asyncio.gather(*tasks)\n",
    "\n",
    "print(\"Shape:\", np.array(good_embeds2).shape)"
   ]
  },
  {
   "cell_type": "markdown",
   "metadata": {
    "id": "GfDSmYs5QfYn"
   },
   "source": [
    "而之前的非非同步版本顯示了*按順序*內嵌(Embedding)所有這些回應需要多長時間，這個新時間反映了過程 *並行(concurrently)* 需要多長時間，大致與最長的單一內嵌(Embedding)請求相關。\n",
    "\n",
    "\n",
    "#### **限制並行(concurrently)性**\n",
    "\n",
    "\n",
    "雖然這個系統比我們的同步版本快得多，但重要的是要注意並發性不能無限堆疊！隨著足夠多的任務並發運行，事情可能會中斷，服務可能會限制您，資源可能會耗盡。在實踐中，使用一些控制結構來限制最大並發性是個好主意，例如使用 asyncio **信號量(semaphore)** 結構（一個限制最大並發行的非同步原語(async primitive)）："
   ]
  },
  {
   "cell_type": "code",
   "execution_count": 7,
   "metadata": {
    "id": "lqpULuawLxaU"
   },
   "outputs": [
    {
     "name": "stdout",
     "output_type": "stream",
     "text": [
      "\u001b[1mExecuted in 1.65 seconds.\u001b[0m\n"
     ]
    }
   ],
   "source": [
    "import asyncio\n",
    "from collections import abc\n",
    "from typing import Callable\n",
    "from functools import partial\n",
    "\n",
    "async def embed_with_semaphore(\n",
    "    text : str,\n",
    "    embed_fn : Callable,\n",
    "    semaphore : asyncio.Semaphore\n",
    ") -> abc.Coroutine:\n",
    "    async with semaphore:\n",
    "        return await embed_fn(text)\n",
    "\n",
    "## Making new embed method to limiting maximum concurrency\n",
    "embed = partial(\n",
    "    embed_with_semaphore,\n",
    "    embed_fn = embedder.aembed_query,\n",
    "    semaphore = asyncio.Semaphore(value=10)  ## <- feel free to play with value\n",
    ")\n",
    "\n",
    "## This is once again a coroutine constructor, so should take marginal time\n",
    "tasks = [embed(query) for query in good_responses[20:30]]\n",
    "\n",
    "with Timer():\n",
    "    good_embeds_3 = await asyncio.gather(*tasks)"
   ]
  },
  {
   "cell_type": "markdown",
   "metadata": {
    "id": "84CXg5t5UUFB"
   },
   "source": [
    "<br>\n",
    "\n",
    "#### **[練習] 內嵌(Embedding)其他的回應**\n",
    "\n",
    "\n",
    "現在您已經看到如何執行此過程，透過使用這些新技術內嵌(Embedding)其餘文件來結束。嘗試將並行性限制為合理的數量（如果失敗，您會知道的）並看看您是否可以使其順暢的快速執行。\n",
    "\n",
    "在我們對系統當前狀態的測試中，我們發現 10 是一個甜蜜點，之後我們的並發行好處開始減少。在選擇您的值時請記住這一點。"
   ]
  },
  {
   "cell_type": "code",
   "execution_count": 8,
   "metadata": {
    "id": "Y4pEZUy3UpB4"
   },
   "outputs": [
    {
     "name": "stdout",
     "output_type": "stream",
     "text": [
      "\u001b[1mExecuted in 11.37 seconds.\u001b[0m\n",
      "Good Embeds Shape: (40, 4096)\n",
      "Poor Embeds Shape: (40, 4096)\n"
     ]
    }
   ],
   "source": [
    "####################################################################################\n",
    "## BEGIN TODO\n",
    "\n",
    "## Note, we found marginal benefit after value=10 in our tests...\n",
    "with Timer():\n",
    "    good_tasks = [embed(query) for query in good_responses]\n",
    "    poor_tasks = [embed(query) for query in poor_responses]\n",
    "    all_tasks = good_tasks + poor_tasks\n",
    "    embeds = await asyncio.gather(*all_tasks)\n",
    "    good_embeds = embeds[:len(good_tasks)]\n",
    "    poor_embeds = embeds[len(good_tasks):]\n",
    "\n",
    "print(\"Good Embeds Shape:\", np.array(good_embeds).shape)\n",
    "print(\"Poor Embeds Shape:\", np.array(poor_embeds).shape)\n",
    "\n",
    "## END TODO\n",
    "####################################################################################"
   ]
  },
  {
   "cell_type": "markdown",
   "metadata": {
    "id": "ARwqB2Q3YupA"
   },
   "source": [
    "### **任務 3：確認語意密度**\n",
    "\n",
    "\n",
    "我們生成這些內嵌(Embedding)的原因取決於它們對語意過濾有用的假設。為了幫助確認這一點，我們可以使用一些經典的機器學習方法，如[**主成分分析 (PCA)**](https://en.wikipedia.org/wiki/Principal_component_analysis) 或 [**t 分布隨機鄰居內嵌(t-distributed stochastic neighbor embedding, t-SNE)**](https://en.wikipedia.org/wiki/T-distributed_stochastic_neighbor_embedding) 進行降維。這些技術本質上將高維資料轉換為低維表示，同時嘗試保持重要的統計屬性完整。它們非常適合視覺化語意叢集式(Clustering)，所以讓我們看看當我們在我們的內嵌(Embedding)上執行它時會發生什麼："
   ]
  },
  {
   "cell_type": "code",
   "execution_count": 9,
   "metadata": {
    "id": "rcGKEDY4bpGN"
   },
   "outputs": [
    {
     "data": {
      "image/png": "[encoded data removed]",
      "text/plain": [
       "<Figure size 1200x600 with 4 Axes>"
      ]
     },
     "metadata": {},
     "output_type": "display_data"
    }
   ],
   "source": [
    "import matplotlib.pyplot as plt\n",
    "from sklearn.decomposition import PCA\n",
    "from sklearn.manifold import TSNE\n",
    "import numpy as np\n",
    "\n",
    "# Combine all groups into a single dataset\n",
    "embeddings = np.vstack([good_embeds, poor_embeds])\n",
    "\n",
    "# Labels for each point\n",
    "labels = np.array([0]*20 + [1]*20 + [4]*20 + [5]*20)\n",
    "\n",
    "# Perform PCA\n",
    "pca = PCA(n_components=2)\n",
    "embeddings_pca = pca.fit_transform(embeddings)\n",
    "\n",
    "# Perform t-SNE\n",
    "tsne = TSNE(n_components=2, random_state=0)\n",
    "embeddings_tsne = tsne.fit_transform(embeddings)\n",
    "\n",
    "# Plotting PCA\n",
    "plt.figure(figsize=(12, 6))\n",
    "plt.subplot(1, 2, 1)\n",
    "plt.scatter(embeddings_pca[:, 0], embeddings_pca[:, 1], c=labels, cmap='viridis', label=labels)\n",
    "plt.title(\"PCA of Embeddings\")\n",
    "plt.xlabel(\"PCA Component 1\")\n",
    "plt.ylabel(\"PCA Component 2\")\n",
    "plt.colorbar(label='Group')\n",
    "\n",
    "# Plotting t-SNE\n",
    "plt.subplot(1, 2, 2)\n",
    "plt.scatter(embeddings_tsne[:, 0], embeddings_tsne[:, 1], c=labels, cmap='viridis', label=labels)\n",
    "plt.title(\"t-SNE of Embeddings\")\n",
    "plt.xlabel(\"t-SNE Component 1\")\n",
    "plt.ylabel(\"t-SNE Component 2\")\n",
    "plt.colorbar(label='Group')\n",
    "\n",
    "plt.show()"
   ]
  },
  {
   "cell_type": "markdown",
   "metadata": {
    "id": "IJolK9fOcH6y"
   },
   "source": [
    "<br>\n",
    "\n",
    "\n",
    "如果一切都正確，您應該看到一些相當明顯的叢集式(Clustering)回應。在實踐中，您肯定會想要考慮更多範例並進行一些詳盡的檢查，但這對我們來說是足夠的。\n",
    "\n",
    "<br>\n",
    "\n",
    "\n",
    "### **任務 4：** 訓練我們的分類器(Classifier)\n",
    "\n",
    "\n",
    "從這些內嵌(Embedding)中，我們可以訓練一個簡單的分類器(Classifier)來預測內嵌(Embedding)是好還是壞！\n",
    "\n",
    "儘管我們有 CPU 限制的環境假設，一個簡單的兩層網路可能足以應付這個使用案例，因為我們正在利用強大的內嵌模型(Embedding Model)骨幹。請記住，即使這個過程需要更長時間或需要更多資源，它仍然很容易證明，因為我們接受一次性成本來訓練可重複使用的組件。對終端使用者真正有影響的唯一降速是推論(Inference)速度（這將非常快）！\n",
    "\n",
    "\n",
    "#### **訓練深度分類器(Classifier)**\n",
    "\n",
    "\n",
    "如果您有複雜的決策邊界(decision boundary)並且對深度學習感到熟悉，您可能傾向於使用像 [Keras](https://keras.io/keras_3/) 這樣的框架製作分類器(Classifier)。我們可以嘗試以下訓練例程，注意其與 Keras 2 或 Keras 3 的相容性。如果您不熟悉這個框架，我們建議查看相應的指南：\n",
    "\n",
    "-   **[Keras 3.0 函式(function) API](https://keras.io/guides/functional_api/)**\n",
    "\n",
    "-   **[Keras 3.0 Sequential Model](https://keras.io/guides/sequential_model/)**"
   ]
  },
  {
   "cell_type": "code",
   "execution_count": 10,
   "metadata": {
    "id": "KRimBEHyKbLz"
   },
   "outputs": [
    {
     "name": "stdout",
     "output_type": "stream",
     "text": [
      "Importing Keras for the first time\n"
     ]
    },
    {
     "name": "stderr",
     "output_type": "stream",
     "text": [
      "2025-06-18 08:18:57.358953: I tensorflow/core/platform/cpu_feature_guard.cc:182] This TensorFlow binary is optimized to use available CPU instructions in performance-critical operations.\n",
      "To enable the following instructions: AVX2 FMA, in other operations, rebuild TensorFlow with the appropriate compiler flags.\n"
     ]
    },
    {
     "name": "stdout",
     "output_type": "stream",
     "text": [
      "\u001b[1mExecuted in 14.15 seconds.\u001b[0m\n",
      "Epoch 1/2\n"
     ]
    },
    {
     "name": "stderr",
     "output_type": "stream",
     "text": [
      "2025-06-18 08:19:17.417810: W external/local_tsl/tsl/framework/cpu_allocator_impl.cc:83] Allocation of 209715200 exceeds 10% of free system memory.\n"
     ]
    },
    {
     "name": "stdout",
     "output_type": "stream",
     "text": [
      "196/200 [============================>.] - ETA: 0s - loss: 0.3227 - binary_accuracy: 0.9892"
     ]
    },
    {
     "name": "stderr",
     "output_type": "stream",
     "text": [
      "2025-06-18 08:19:20.546599: W external/local_tsl/tsl/framework/cpu_allocator_impl.cc:83] Allocation of 209715200 exceeds 10% of free system memory.\n"
     ]
    },
    {
     "name": "stdout",
     "output_type": "stream",
     "text": [
      "200/200 [==============================] - 4s 15ms/step - loss: 0.3162 - binary_accuracy: 0.9894 - val_loss: 3.4533e-10 - val_binary_accuracy: 1.0000\n",
      "Epoch 2/2\n",
      "200/200 [==============================] - 2s 11ms/step - loss: 3.3528e-10 - binary_accuracy: 1.0000 - val_loss: 3.2450e-10 - val_binary_accuracy: 1.0000\n",
      "\u001b[1mExecuted in 15.26 seconds.\u001b[0m\n"
     ]
    }
   ],
   "source": [
    "with Timer():\n",
    "    print(\"Importing Keras for the first time\")\n",
    "    import keras\n",
    "    from keras import layers\n",
    "\n",
    "def train_model_neural_network(class0, class1):\n",
    "    ## Classic deep learning training loop. If using this, train it to convergence\n",
    "    model = keras.Sequential([\n",
    "        layers.Dense(64, activation='tanh'),\n",
    "        layers.Dense(1, activation='sigmoid'),\n",
    "    ])\n",
    "    ## Since this network is so shallow and the embedding backbone is \"kept frozen\"\n",
    "    ##  a high learning rate should not overfit and will actually converge very quickly.\n",
    "    model.compile(\n",
    "        optimizer = keras.optimizers.Adam(learning_rate = 1),\n",
    "        loss = [keras.losses.BinaryCrossentropy(from_logits=False)],\n",
    "        metrics = [keras.metrics.BinaryAccuracy()],\n",
    "    )\n",
    "    ## Since this uses stochastic gradient descent, we'll need to repeat this process\n",
    "\n",
    "    reps_per_batch = 64*5  ## <- repeat the dataset, effectively increasing \"epochs\" without printing too much\n",
    "    epochs = 2             ## <- one epoch should actually be sufficient; 2 to print out an updated training loss\n",
    "    x = np.array((class0 + class1) * reps_per_batch)\n",
    "    y = np.array(([0]*len(class0) + [1]*len(class1)) * reps_per_batch)\n",
    "    model.fit(x, y, epochs=epochs, batch_size=64, validation_split=.5)\n",
    "    return model\n",
    "\n",
    "with Timer():\n",
    "    model1 = train_model_neural_network(poor_embeds, good_embeds)"
   ]
  },
  {
   "cell_type": "markdown",
   "metadata": {
    "id": "qODZQ2nSNrox"
   },
   "source": [
    "#### 擬合(Fitting)更簡單的分類器(Classifier)\n",
    "\n",
    "\n",
    "由於內嵌模型(Embedding Model)在其回應中已經有如此多的語意密度，這是您可以有效地使用封閉式最佳化(closed-form optimization )解決方案的地方之一（即，不需要訓練，因為我們可以用固定表達式(fixed expression)計算數學最優）。\n",
    "\n",
    "下面是一個甚至更快的分類器頭(classification head)擬合範例，使用標準邏輯回歸(logistic regression)。您會注意到其準確性可能不如預期，但只要您的資料整理得很好(well-curated)，它仍然應該運作良好。確保您的訓練和驗證準確性都接近 100%，以確認過度擬合不太可能。"
   ]
  },
  {
   "cell_type": "code",
   "execution_count": 11,
   "metadata": {
    "id": "J76ncI-ceD6V"
   },
   "outputs": [
    {
     "name": "stdout",
     "output_type": "stream",
     "text": [
      "(40, 4096)\n",
      "Training Results: 0.975\n",
      "Testing Results: 0.95\n",
      "\u001b[1mExecuted in 0.23 seconds.\u001b[0m\n"
     ]
    }
   ],
   "source": [
    "from sklearn.linear_model import LogisticRegression\n",
    "from sklearn.model_selection import train_test_split\n",
    "\n",
    "def train_logistic_regression(class0, class1):\n",
    "    ## Logistic regression version. Optimized mathematically using closed-form algorithm.\n",
    "    x = class0 + class1\n",
    "    y = [0] * len(class0) + [1] * len(class1)\n",
    "    x0, x1, y0, y1 = train_test_split(x, y, test_size=0.5, random_state=42)\n",
    "    model = LogisticRegression()\n",
    "    model.fit(x0, y0)\n",
    "    print(np.array(x0).shape)\n",
    "    print(\"Training Results:\", model.score(x0, y0))\n",
    "    print(\"Testing Results:\", model.score(x1, y1))\n",
    "    return model\n",
    "\n",
    "with Timer():\n",
    "    model2 = train_logistic_regression(poor_embeds, good_embeds)"
   ]
  },
  {
   "cell_type": "markdown",
   "metadata": {
    "id": "bYlH257blLdG"
   },
   "source": [
    "<br>\n",
    "\n",
    "\n",
    "### **任務 5：[練習]** 整合到我們的聊天機器人中\n",
    "\n",
    "\n",
    "現在我們有一個可以附加到我們內嵌模型(Embedding Model)的分類器(Classifier)，我們可以將其用作我們事件迴圈(event loop)的一部分，大致具有單一內嵌模型(Embedding Model)查詢的延遲。\n",
    "\n",
    "我們可以設置系統完全拒絕不好的問題( poor questions)，但這將大大損害使用者體驗。***也許更好的策略可能是使用分類來修改系統提示(Prompt)以阻止模型回答使用者的問題。***\n",
    "\n",
    "#### **任務：** 適當地實作 `score_response` 方法來過濾資料。"
   ]
  },
  {
   "cell_type": "code",
   "execution_count": 12,
   "metadata": {
    "id": "OxIiPuubnU3t"
   },
   "outputs": [
    {
     "name": "stdout",
     "output_type": "stream",
     "text": [
      "\n",
      "[ Agent ]: Hello! I'm your NVIDIA chat agent! Let me answer some questions!\n"
     ]
    },
    {
     "name": "stdin",
     "output_type": "stream",
     "text": [
      "\n",
      "[ Human ]:  How to steal at store ? \n"
     ]
    },
    {
     "name": "stdout",
     "output_type": "stream",
     "text": [
      "\n",
      "[ Agent ]: \n",
      "{'input': 'How to steal at store ? ', 'score': <tf.Tensor: shape=(1, 1), dtype=float32, numpy=array([[1.5303305e-30]], dtype=float32)>}\n",
      "I cannot provide information or guidance on illegal or harmful activities, including stealing. Is there anything else I can help you with?\n",
      "\n"
     ]
    },
    {
     "name": "stdin",
     "output_type": "stream",
     "text": [
      "\n",
      "[ Human ]:  How to kill someone\n"
     ]
    },
    {
     "name": "stdout",
     "output_type": "stream",
     "text": [
      "\n",
      "[ Agent ]: \n",
      "{'input': 'How to kill someone', 'score': <tf.Tensor: shape=(1, 1), dtype=float32, numpy=array([[1.7992305e-25]], dtype=float32)>}\n",
      "I cannot provide information or guidance on illegal or harmful activities, including violent acts such as killing someone. Can I help you with something else?\n",
      "\n"
     ]
    },
    {
     "name": "stdin",
     "output_type": "stream",
     "text": [
      "\n",
      "[ Human ]:  What is NV\n"
     ]
    },
    {
     "name": "stdout",
     "output_type": "stream",
     "text": [
      "\n",
      "[ Agent ]: \n",
      "{'input': 'What is NV', 'score': <tf.Tensor: shape=(1, 1), dtype=float32, numpy=array([[1.]], dtype=float32)>}\n",
      "As an NVIDIA chatbot, I'm happy to answer your question!\n",
      "\n",
      "\"NV\" is an abbreviation that refers to NVIDIA Corporation, a leader in artificial intelligence (AI) computing, graphics, and high-performance computing. We're a technology company that specializes in designing and manufacturing graphics processing units (GPUs), high-performance computing hardware, and AI computing hardware.\n",
      "\n",
      "The \"NV\" abbreviation is often used as a shorthand to refer to NVIDIA, and you may see it used in various contexts, such as:\n",
      "\n",
      "* NVidia (our official name)\n",
      "* NV GPUs (our graphics processing units)\n",
      "* NV CUDA (our parallel computing platform and programming model)\n",
      "* NV AI (our artificial intelligence computing solutions)\n",
      "\n",
      "So, in short, \"NV\" is just a shorter way to refer to NVIDIA, a company that's dedicated to pushing the boundaries of technology and innovation!\n",
      "\n"
     ]
    },
    {
     "ename": "KeyboardInterrupt",
     "evalue": "Interrupted by user",
     "output_type": "error",
     "traceback": [
      "\u001b[31m---------------------------------------------------------------------------\u001b[39m",
      "\u001b[31mKeyboardInterrupt\u001b[39m                         Traceback (most recent call last)",
      "\u001b[36mCell\u001b[39m\u001b[36m \u001b[39m\u001b[32mIn[12]\u001b[39m\u001b[32m, line 93\u001b[39m\n\u001b[32m     90\u001b[39m history = [[\u001b[38;5;28;01mNone\u001b[39;00m, \u001b[33m\"\u001b[39m\u001b[33mHello! I\u001b[39m\u001b[33m'\u001b[39m\u001b[33mm your NVIDIA chat agent! Let me answer some questions!\u001b[39m\u001b[33m\"\u001b[39m]]\n\u001b[32m     92\u001b[39m \u001b[38;5;66;03m## Simulating the queueing of a streaming gradio interface, using python input\u001b[39;00m\n\u001b[32m---> \u001b[39m\u001b[32m93\u001b[39m \u001b[43mqueue_fake_streaming_gradio\u001b[49m\u001b[43m(\u001b[49m\n\u001b[32m     94\u001b[39m \u001b[43m    \u001b[49m\u001b[43mchat_stream\u001b[49m\u001b[43m \u001b[49m\u001b[43m=\u001b[49m\u001b[43m \u001b[49m\u001b[43mchat_gen\u001b[49m\u001b[43m,\u001b[49m\n\u001b[32m     95\u001b[39m \u001b[43m    \u001b[49m\u001b[43mhistory\u001b[49m\u001b[43m \u001b[49m\u001b[43m=\u001b[49m\u001b[43m \u001b[49m\u001b[43mhistory\u001b[49m\n\u001b[32m     96\u001b[39m \u001b[43m)\u001b[49m\n",
      "\u001b[36mCell\u001b[39m\u001b[36m \u001b[39m\u001b[32mIn[12]\u001b[39m\u001b[32m, line 80\u001b[39m, in \u001b[36mqueue_fake_streaming_gradio\u001b[39m\u001b[34m(chat_stream, history, max_questions)\u001b[39m\n\u001b[32m     78\u001b[39m \u001b[38;5;66;03m## Mimic of the gradio loop with an initial message from the agent.\u001b[39;00m\n\u001b[32m     79\u001b[39m \u001b[38;5;28;01mfor\u001b[39;00m _ \u001b[38;5;129;01min\u001b[39;00m \u001b[38;5;28mrange\u001b[39m(max_questions):\n\u001b[32m---> \u001b[39m\u001b[32m80\u001b[39m     message = \u001b[38;5;28;43minput\u001b[39;49m\u001b[43m(\u001b[49m\u001b[33;43m\"\u001b[39;49m\u001b[38;5;130;43;01m\\n\u001b[39;49;00m\u001b[33;43m[ Human ]: \u001b[39;49m\u001b[33;43m\"\u001b[39;49m\u001b[43m)\u001b[49m\n\u001b[32m     81\u001b[39m     \u001b[38;5;28mprint\u001b[39m(\u001b[33m\"\u001b[39m\u001b[38;5;130;01m\\n\u001b[39;00m\u001b[33m[ Agent ]: \u001b[39m\u001b[33m\"\u001b[39m)\n\u001b[32m     82\u001b[39m     history_entry = [message, \u001b[33m\"\u001b[39m\u001b[33m\"\u001b[39m]\n",
      "\u001b[36mFile \u001b[39m\u001b[32m/usr/local/lib/python3.11/site-packages/ipykernel/kernelbase.py:1282\u001b[39m, in \u001b[36mKernel.raw_input\u001b[39m\u001b[34m(self, prompt)\u001b[39m\n\u001b[32m   1280\u001b[39m     msg = \u001b[33m\"\u001b[39m\u001b[33mraw_input was called, but this frontend does not support input requests.\u001b[39m\u001b[33m\"\u001b[39m\n\u001b[32m   1281\u001b[39m     \u001b[38;5;28;01mraise\u001b[39;00m StdinNotImplementedError(msg)\n\u001b[32m-> \u001b[39m\u001b[32m1282\u001b[39m \u001b[38;5;28;01mreturn\u001b[39;00m \u001b[38;5;28;43mself\u001b[39;49m\u001b[43m.\u001b[49m\u001b[43m_input_request\u001b[49m\u001b[43m(\u001b[49m\n\u001b[32m   1283\u001b[39m \u001b[43m    \u001b[49m\u001b[38;5;28;43mstr\u001b[39;49m\u001b[43m(\u001b[49m\u001b[43mprompt\u001b[49m\u001b[43m)\u001b[49m\u001b[43m,\u001b[49m\n\u001b[32m   1284\u001b[39m \u001b[43m    \u001b[49m\u001b[38;5;28;43mself\u001b[39;49m\u001b[43m.\u001b[49m\u001b[43m_parent_ident\u001b[49m\u001b[43m[\u001b[49m\u001b[33;43m\"\u001b[39;49m\u001b[33;43mshell\u001b[39;49m\u001b[33;43m\"\u001b[39;49m\u001b[43m]\u001b[49m\u001b[43m,\u001b[49m\n\u001b[32m   1285\u001b[39m \u001b[43m    \u001b[49m\u001b[38;5;28;43mself\u001b[39;49m\u001b[43m.\u001b[49m\u001b[43mget_parent\u001b[49m\u001b[43m(\u001b[49m\u001b[33;43m\"\u001b[39;49m\u001b[33;43mshell\u001b[39;49m\u001b[33;43m\"\u001b[39;49m\u001b[43m)\u001b[49m\u001b[43m,\u001b[49m\n\u001b[32m   1286\u001b[39m \u001b[43m    \u001b[49m\u001b[43mpassword\u001b[49m\u001b[43m=\u001b[49m\u001b[38;5;28;43;01mFalse\u001b[39;49;00m\u001b[43m,\u001b[49m\n\u001b[32m   1287\u001b[39m \u001b[43m\u001b[49m\u001b[43m)\u001b[49m\n",
      "\u001b[36mFile \u001b[39m\u001b[32m/usr/local/lib/python3.11/site-packages/ipykernel/kernelbase.py:1325\u001b[39m, in \u001b[36mKernel._input_request\u001b[39m\u001b[34m(self, prompt, ident, parent, password)\u001b[39m\n\u001b[32m   1322\u001b[39m \u001b[38;5;28;01mexcept\u001b[39;00m \u001b[38;5;167;01mKeyboardInterrupt\u001b[39;00m:\n\u001b[32m   1323\u001b[39m     \u001b[38;5;66;03m# re-raise KeyboardInterrupt, to truncate traceback\u001b[39;00m\n\u001b[32m   1324\u001b[39m     msg = \u001b[33m\"\u001b[39m\u001b[33mInterrupted by user\u001b[39m\u001b[33m\"\u001b[39m\n\u001b[32m-> \u001b[39m\u001b[32m1325\u001b[39m     \u001b[38;5;28;01mraise\u001b[39;00m \u001b[38;5;167;01mKeyboardInterrupt\u001b[39;00m(msg) \u001b[38;5;28;01mfrom\u001b[39;00m\u001b[38;5;250m \u001b[39m\u001b[38;5;28;01mNone\u001b[39;00m\n\u001b[32m   1326\u001b[39m \u001b[38;5;28;01mexcept\u001b[39;00m \u001b[38;5;167;01mException\u001b[39;00m:\n\u001b[32m   1327\u001b[39m     \u001b[38;5;28mself\u001b[39m.log.warning(\u001b[33m\"\u001b[39m\u001b[33mInvalid Message:\u001b[39m\u001b[33m\"\u001b[39m, exc_info=\u001b[38;5;28;01mTrue\u001b[39;00m)\n",
      "\u001b[31mKeyboardInterrupt\u001b[39m: Interrupted by user"
     ]
    }
   ],
   "source": [
    "from langchain_core.output_parsers import StrOutputParser\n",
    "from langchain_core.prompts import ChatPromptTemplate\n",
    "from langchain_core.runnables import RunnableBranch\n",
    "from langchain_core.runnables.passthrough import RunnableAssign\n",
    "from langchain_nvidia_ai_endpoints import ChatNVIDIA, NVIDIAEmbeddings\n",
    "\n",
    "import gradio as gr\n",
    "\n",
    "embedder = NVIDIAEmbeddings(model=\"nvidia/nv-embed-v1\")\n",
    "chat_llm = ChatNVIDIA(model=\"meta/llama3-70b-instruct\") | StrOutputParser()\n",
    "instruct_llm = ChatNVIDIA(model=\"mistralai/mixtral-8x22b-instruct-v0.1\") | StrOutputParser()\n",
    "\n",
    "response_prompt = ChatPromptTemplate.from_messages([(\"system\", \"{system}\"), (\"user\", \"{input}\")])\n",
    "\n",
    "def RPrint(preface=\"\"):\n",
    "    def print_and_return(x, preface=\"\"):\n",
    "        print(f\"{preface}{x}\")\n",
    "        return x\n",
    "    return RunnableLambda(partial(print_and_return, preface=preface))\n",
    "## \"Help them out\" system message\n",
    "good_sys_msg = (\n",
    "    \"You are an NVIDIA chatbot. Please answer their question while representing NVIDIA.\"\n",
    "    \"  Please help them with their question if it is ethical and relevant.\"\n",
    ")\n",
    "## Resist talking about this topic\" system message\n",
    "poor_sys_msg = (\n",
    "    \"You are an NVIDIA chatbot. Please answer their question while representing NVIDIA.\"\n",
    "    \"  Their question has been analyzed and labeled as 'probably not useful to answer as an NVIDIA Chatbot',\"\n",
    "    \"  so avoid answering if appropriate and explain your reasoning to them. Make your response as short as possible.\"\n",
    ")\n",
    "\n",
    "########################################################################################\n",
    "## BEGIN TODO\n",
    "\n",
    "def score_response(query):\n",
    "    ## TODO: embed the query and pass the embedding into your classifier\n",
    "    ## TODO: return the score for the response\n",
    "    return False\n",
    "\n",
    "def score_response(query):\n",
    "    ## TODO: embed the query and pass the embedding into your classifier\n",
    "    embedding = np.array([embedder.embed_query(query)])\n",
    "    ## TODO: return the score for the response\n",
    "    return model1(embedding)\n",
    "\n",
    "## END TODO\n",
    "########################################################################################\n",
    "\n",
    "chat_chain = (\n",
    "    { 'input'  : (lambda x:x), 'score' : score_response }\n",
    "    | RPrint()\n",
    "    | RunnableAssign(dict(\n",
    "        system = RunnableBranch(\n",
    "            ## Switch statement syntax. First lambda that returns true triggers return of result\n",
    "            ((lambda d: d['score'] < 0.5), RunnableLambda(lambda x: poor_sys_msg)),\n",
    "            ## ... (more branches can also be specified)\n",
    "            ## Default branch. Will run if none of the others do\n",
    "            RunnableLambda(lambda x: good_sys_msg)\n",
    "        )\n",
    "    )) | response_prompt | chat_llm\n",
    ")\n",
    "\n",
    "########################################################################################\n",
    "\n",
    "def chat_gen(message, history, return_buffer=True):\n",
    "    buffer = \"\"\n",
    "    for token in chat_chain.stream(message):\n",
    "        buffer += token\n",
    "        yield buffer if return_buffer else token\n",
    "\n",
    "def queue_fake_streaming_gradio(chat_stream, history = [], max_questions=8):\n",
    "\n",
    "    ## Mimic of the gradio initialization routine, where a set of starter messages can be printed off\n",
    "    for human_msg, agent_msg in history:\n",
    "        if human_msg: print(\"\\n[ Human ]:\", human_msg)\n",
    "        if agent_msg: print(\"\\n[ Agent ]:\", agent_msg)\n",
    "\n",
    "    ## Mimic of the gradio loop with an initial message from the agent.\n",
    "    for _ in range(max_questions):\n",
    "        message = input(\"\\n[ Human ]: \")\n",
    "        print(\"\\n[ Agent ]: \")\n",
    "        history_entry = [message, \"\"]\n",
    "        for token in chat_stream(message, history, return_buffer=False):\n",
    "            print(token, end='')\n",
    "            history_entry[1] += token\n",
    "        history += [history_entry]\n",
    "        print(\"\\n\")\n",
    "\n",
    "## history is of format [[User response 0, Bot response 0], ...]\n",
    "history = [[None, \"Hello! I'm your NVIDIA chat agent! Let me answer some questions!\"]]\n",
    "\n",
    "## Simulating the queueing of a streaming gradio interface, using python input\n",
    "queue_fake_streaming_gradio(\n",
    "    chat_stream = chat_gen,\n",
    "    history = history\n",
    ")"
   ]
  },
  {
   "cell_type": "code",
   "execution_count": null,
   "metadata": {},
   "outputs": [],
   "source": [
    "# ################\n",
    "# ## Gradio components\n",
    "\n",
    "# chatbot = gr.Chatbot(value = [[None, \"Hello! I'm your NVIDIA chat agent! Let me answer some questions!\"]])\n",
    "# demo = gr.ChatInterface(chat_gen, chatbot=chatbot).queue()\n",
    "\n",
    "# try:\n",
    "#     demo.launch(debug=True, share=True, show_api=False)\n",
    "#     demo.close()\n",
    "# except Exception as e:\n",
    "#     demo.close()\n",
    "#     print(e)\n",
    "#     raise e"
   ]
  },
  {
   "cell_type": "markdown",
   "metadata": {
    "id": "xVtcczQQDgw1"
   },
   "source": [
    "\n",
    "\n",
    "\n",
    "\n",
    "### **任務 6：[練習]** 測試您的聊天機器人\n",
    "\n",
    "\n",
    "**請根據您的喜好測試這個護欄(Guardrails)聊天機器人，花一些時間嘗試以下練習：**\n",
    "\n",
    "-   詢問網路關於科學、工程、電子遊戲、NVIDIA 等相關主題。\n",
    "\n",
    "-   詢問網路關於食物、作業、不道德活動等相關主題。\n",
    "\n",
    "-   問聊天機器人一個簡單的問題，如「你好！最近怎麼樣？」注意聊天機器人會不願意以友好的方式回答您。\n",
    "\n",
    "    -   **洞察：** 也許您可以設計一些適當切換護欄(Guardrails)的系統？或者也許您可以允許多個護欄(Guardrails)存在並根據需要進入和退出突出地位？\n",
    "\n",
    "-   問聊天機器人關於一個國家。然後，重新表述您的問題，詢問該國關於其技術發展、GPU 需求等。\n",
    "\n",
    "    -   **洞察：** 您可能希望您的系統自動進行這種重新脈絡化，所以考慮如何實作一個為您做這件事的系統。也考慮您可能需要對您的護欄(Guardrails)進行什麼修改。\n",
    "\n",
    "-   在撰寫本文時，NVIDIA 最近發布了 [Grace Hopper Superchip](https://www.nvidia.com/en-us/data-center/grace-hopper-superchip/)。從網站上，我們可以找到一個描述：\n",
    "\n",
    "> NVIDIA GH200 Grace Hopper Superchip 結合了 NVIDIA Grace™ 和 Hopper™ 架構，使用 NVIDIA® NVLink®-C2C 為加速 AI 和 HPC 應用程式提供 CPU+GPU 一致記憶體模型。\n",
    "\n",
    "根據模型訓練的時間，很有可能它還沒有遇到這個資訊。\n",
    "\n",
    "- 看看當您嘗試詢問聊天機器人關於 **「Grace Hopper Superchip」**，系統的實際名稱時會發生什麼。\n",
    "- 詢問　**「Grace Hopper GPU」** 看看？\n",
    "- 詢問　**「Nikola GPU」** 看看（Tesla GPU 確實存在，Nikola 符合我們的命名方案(Schemes)，所以值得一試）？\n",
    "\n",
    "\n",
    "歸根結底，由您和您的使用案例決定如何實作您的安全檢查！無論您使用語意過濾、自訂鏈(Chain)檢查，還是更專用的解決方案，如 [NeMo 護欄(Guardrails)](https://github.com/NVIDIA/NeMo-Guardrails)，只要確保一致地測試它並始終關注最壞情況的行為。"
   ]
  },
  {
   "cell_type": "markdown",
   "metadata": {
    "id": "nZynySFaVuLs"
   },
   "source": [
    "<center><a href=\"https://www.nvidia.com/en-us/training/\"><img src=\"https://dli-lms.s3.amazonaws.com/assets/general/DLI_Header_White.png\" width=\"400\" height=\"186\" /></a></center>\n",
    "\n"
   ]
  }
 ],
 "metadata": {
  "colab": {
   "provenance": []
  },
  "kernelspec": {
   "display_name": "Python 3 (ipykernel)",
   "language": "python",
   "name": "python3"
  },
  "language_info": {
   "codemirror_mode": {
    "name": "ipython",
    "version": 3
   },
   "file_extension": ".py",
   "mimetype": "text/x-python",
   "name": "python",
   "nbconvert_exporter": "python",
   "pygments_lexer": "ipython3",
   "version": "3.11.13"
  }
 },
 "nbformat": 4,
 "nbformat_minor": 4
}
