{
 "cells": [
  {
   "cell_type": "markdown",
   "metadata": {
    "id": "FDbRWyvFguRc"
   },
   "source": [
    "<center><a href=\"https://www.nvidia.com/en-us/training/\"><img src=\"https://dli-lms.s3.amazonaws.com/assets/general/DLI_Header_White.png\" width=\"400\" height=\"186\" /></a></center>\n"
   ]
  },
  {
   "cell_type": "markdown",
   "metadata": {
    "id": "8U3dZ6VIZEUn"
   },
   "source": [
    "<br>\n",
    "\n",
    "# <font color=\"#76b900\" style=\"text-align:center;\">**Notebook 6:** 內嵌模型(Embedding Models)與語意分析推理(Semantic Reasoning)</font>\n",
    "\n",
    "\n",
    "在前一個 notebook 中，我們將努力擴展到大型文件領域，並學會如何將相同的技術應用於龐大的相關內容基礎！過程中，我們也注意到一些挑戰------特別是在即時動態(in-flight)詮釋方面------這些是現有技術仍無法解決的。本 notebook 將帶領我們轉向另一種方法以協助達成這個目標：**內嵌模型(Embedding Models)**。\n",
    "\n",
    "\n",
    "<br>\n",
    "\n",
    "### **學習目標：**\n",
    "\n",
    "\n",
    "-   熟悉內嵌(Embedding)------將單詞、片語或文件轉換為數值向量的方式------以及它們如何讓深度學習模型處理語意意義。\n",
    "\n",
    "-   學會如何在大規模文件處理中應用這些內嵌模型(Embedding Models)，強化現有的文件摘要與知識擷取方法。\n",
    "\n",
    "\n",
    "<br>\n",
    "\n",
    "### **值得思考的問題：**\n",
    "\n",
    "\n",
    "-   內嵌(Embedding)如何幫助我們更深入理解文件分塊(Chunking)，尤其是在遇到不一致或文字(Text)轉換問題時？\n",
    "\n",
    "-   我們如何在細節與運算效率間取得平衡？能否用 LLM 來重述或標準化您的查詢，或進行專業化微調？\n",
    "\n",
    "-   內嵌模型(Embedding Models)如何補足我們之前開發的 Running State Chain 與知識庫？（下一本 notebook 主題）\n",
    "\n",
    "\n",
    "<br>\n",
    "\n",
    "### **環境設置：**\n",
    "\n"
   ]
  },
  {
   "cell_type": "code",
   "execution_count": 1,
   "metadata": {
    "colab": {
     "base_uri": "https://localhost:8080/"
    },
    "executionInfo": {
     "elapsed": 68012,
     "status": "ok",
     "timestamp": 1703280292779,
     "user": {
      "displayName": "Vadim Kudlay",
      "userId": "00553664172613290122"
     },
     "user_tz": 360
    },
    "id": "mo36Q8zRZ5i_",
    "outputId": "46ae6923-36d2-4a7f-a8f2-33f73755bd90"
   },
   "outputs": [],
   "source": [
    "## Necessary for Colab, not necessary for course environment\n",
    "# %pip install -qq langchain langchain-nvidia-ai-endpoints gradio\n",
    "# %pip install -qq arxiv pymupdf\n",
    "\n",
    "# import os\n",
    "# os.environ[\"NVIDIA_API_KEY\"] = \"nvapi-...\"\n",
    "\n",
    "from functools import partial\n",
    "from rich.console import Console\n",
    "from rich.style import Style\n",
    "from rich.theme import Theme\n",
    "\n",
    "console = Console()\n",
    "base_style = Style(color=\"#76B900\", bold=True)\n",
    "pprint = partial(console.print, style=base_style)"
   ]
  },
  {
   "cell_type": "markdown",
   "metadata": {
    "id": "jhnjt1nEsiwO"
   },
   "source": [
    "\n",
    "\n",
    "<br>\n",
    "\n",
    "## **第一部分：** 內嵌模型(Embedding Models)再認識\n",
    "\n",
    "\n",
    "本節將回顧自然語言處理與深度學習相關的想法，釐清什麼是內嵌模型(Embedding Models)，以及它們與我們目前所用工具的關聯。\n",
    "\n",
    "<br>\n",
    "\n",
    "### **理解隱向量(Latent Embeddings)**\n",
    "\n",
    "\n",
    "隱向量(Latent Embeddings)在深度學習網路中扮演中介角色，連結輸入與輸出。例如，假設我們有一個用於分類 [**MNIST 手寫數字**](https://en.wikipedia.org/wiki/MNIST_database) 的兩層輕量網路。此時，輸入與輸出分別可能是攤平成一維的影像與 one-hot 機率向量。第一層產生的值即為該影像的隱向量(Latent Embeddings)，這些向量經過最佳化，成為最終層可用的有用表徵。這些語意豐富的內嵌(Esemantically rich embeddingsmbedding)雖然不見得能被人類直接解讀，但其原始向量(raw vector)特性可被有效應用。\n",
    "\n",
    "\n",
    "\n",
    "<br>\n",
    "\n",
    "\n",
    "### **詞彙內嵌(Word Embeddings)：語言模型的基石**\n",
    "\n",
    "\n",
    "詞彙內嵌(Word Embeddings)是單一單詞的高維向量表徵，構成深層語言模型的基礎。這些內嵌(Embedding)是透過端到端管線(Pipeline)中的最佳化過程產生，並針對特定任務設計。[**Word2vec**](https://en.wikipedia.org/wiki/Word2vec) 是其中一個著名的獨立範例。實務上，語言模型的 $v$-token 詞彙中的一個 token 會從 token 索引對應到 $d$ 維的 token 內嵌(Embedding)：\n",
    "\n",
    "$$\\text{Token Index} \\in \\{0, 1, \\cdots, v-1\\} \\to \\text{Token Embedding} \\in \\mathbb{R}^{d}$$\n",
    "\n",
    "對於長度為 $n$ 的 token 序列，這樣的對應會延伸到整個序列：\n",
    "\n",
    "$$\\text{Token Sequence} \\in \\{0, 1, \\cdots, v-1\\}^{v} \\to \\text{Embedding Sequence} \\in \\mathbb{R}^{n\\times d}$$\n",
    "\n",
    "\n",
    "\n",
    "<br>\n",
    "\n",
    "\n",
    "### **句子/文件內嵌(Sentence/Document Embeddings)：捕捉脈絡資訊(Context)與語意**\n",
    "\n",
    "\n",
    "處理句子或完整文件時，內嵌(Embedding)在捕捉脈絡資訊(Context)、語意與各元素間互動上扮演關鍵角色。幾乎所有大型語言模型都使用**類 Transformer 架構**來產生這些句子/文件內嵌(Embedding)。Transformer 允許網路在優化問題上，同時傳遞逐 token 與整體序列層級的資訊。\n",
    "\n",
    "<br>\n",
    "\n",
    "### **解碼器模型(Decoder Models)於語言生成**\n",
    "\n",
    "\n",
    "解碼器模型常用於聊天機器人與語言生成任務，會將一連串 token 作為輸入，將這些 token 內嵌(Embedding)為隱向量序列，並以單向分析推理(Reasoning)聚焦於輸出序列的特定部分。模型會從這個語意密集的點預測下一個 token：\n",
    "\n",
    "\n",
    "$$$$\n",
    "$$\\text{[ Next-Token Generation ]}$$\n",
    "$$\\text{Embedding Sequence} \\in \\mathbb{R}^{n\\times d} \\to \\text{Latent Sequence} \\in \\mathbb{R}^{n\\times d}$$\n",
    "$$(\\text{Latent Sequence})[\\text{last entry}] \\in \\mathbb{R}^{d} \\to \\text{Token Prediction} \\in \\mathbb{R}^{v}$$\n",
    "$$$$\n",
    "\n",
    "這個過程會持續進行，將 token 預測從向量轉為實際 token，並依序累積，直到達到終止條件（如長度限制或停止 token）。\n",
    "\n",
    "$$$$\n",
    "$$\\text{[ Autoregressive Generation ]}$$\n",
    "$$(\\text{Original + Predicted Embedding Sequence}) \\in \\mathbb{R}^{(n+1)\\times e} \\to \\text{Token Prediction} \\in \\mathbb{R}^{v}$$\n",
    "$$\\vdots$$\n",
    "$$(\\text{Original + Predicted Embedding Sequence}) \\in \\mathbb{R}^{(n+m)\\times e} \\to \\text{Token Prediction} \\in \\mathbb{R}^{v}$$\n",
    "$$$$\n",
    "<br>\n",
    "\n",
    "### **編碼器模型(Encoder Models)於序列編碼**\n",
    "\n",
    "\n",
    "編碼器模型採用雙向架構，適用於與解碼器模型不同的任務，特別是在 token 或序列預測方面。令 $c$ 為類別數或回歸值數：\n",
    "\n",
    "$$$$\n",
    "$$\\text{[ Per-Token Prediction ]}$$\n",
    "$$\\text{Embedding Sequence} \\in \\mathbb{R}^{n\\times d} \\to \\text{Latent Sequence} \\in \\mathbb{R}^{n\\times d} \\to \\text{Per-Token Predictions} \\in \\mathbb{R}^{n\\times c}$$\n",
    "\n",
    "$$$$\n",
    "$$\\text{[ Full-Sequence Prediction ]}$$\n",
    "$$\\text{Embedding Sequence} \\in \\mathbb{R}^{n\\times d} \\to \\text{Latent Sequence} \\in \\mathbb{R}^{n\\times d}$$\n",
    "$$(\\text{Latent Sequence})[\\text{0th entry}] \\in \\mathbb{R}^{d} \\to \\text{Sequence Prediction} \\in \\mathbb{R}^{c}$$\n",
    "\n",
    "<br>\n",
    "\n",
    "> <img src=\"https://dli-lms.s3.amazonaws.com/assets/s-fx-15-v1/imgs/encoder-decoder.png\" width=1200px/>\n",
    "<!-- > <img src=\"https://drive.google.com/uc?export=view&id=1lhswkAgb5TlDxezg3qDNZQKbOMGFz7H5\" width=1200px/> -->\n",
    "\n"
   ]
  },
  {
   "cell_type": "markdown",
   "metadata": {
    "id": "-VVkFBPFUU0v"
   },
   "source": [
    "\n",
    "\n",
    "<br>\n",
    "\n",
    "## **第二部分：** 使用 NVIDIAEmbeddings 模型\n",
    "\n",
    "\n",
    "在本 notebook 中，我們將使用一個內嵌模型(Embedding Model)，該模型有兩條路徑：短格式「查詢」(query)與長格式「文件」(passage)。我們將學習如何正確分析推理(Reasoning)其輸出，並將其用於補足我們現有的 LLM 工具組！\n",
    "\n",
    "我們將再次利用 AI 基礎模型端點(Endpoints)與其在 LangChain 的整合！本節內容與 [**官方 NVIDIAEmbeddings 文件**](https://python.langchain.com/docs/integrations/text_embedding/nvidia_ai_endpoints) 十分相似。\n",
    "\n",
    "截至目前，這項任務推薦的模型為 [**NVIDIA Retrieval QA Embedding model**](https://build.nvidia.com/nvidia/embed-qa-4)，這是經過法律審查的 [**E5-Large embedding model**](https://huggingface.co/intfloat/e5-large) 微調版本，標記為 `nvolveqa_40k`。名稱可能會變動，請查閱最新清單以確認推薦模型。\n",
    "\n",
    "<br>\n",
    "\n",
    "### **辨識我們的模型**\n",
    "\n",
    "\n",
    "在可用模型中，您應能找到適合區分人類可讀段落的內嵌模型(Embedding Model)。確認端點(Endpoint)後，建立 `NVIDIAEmbeddings` 實例連接，並檢查其可用方法。\n",
    "\n"
   ]
  },
  {
   "cell_type": "code",
   "execution_count": 2,
   "metadata": {},
   "outputs": [
    {
     "name": "stderr",
     "output_type": "stream",
     "text": [
      "/usr/local/lib/python3.11/site-packages/langchain_nvidia_ai_endpoints/_common.py:237: UserWarning: Default model is set as: 01-ai/yi-large. \n",
      "Set model using model parameter. \n",
      "To get available models use available_models property.\n",
      "  warnings.warn(\n"
     ]
    },
    {
     "data": {
      "text/plain": [
       "[Model(id='nvidia/embed-qa-4', model_type='embedding', client='NVIDIAEmbeddings', endpoint=None, aliases=None, supports_tools=False, supports_structured_output=False, base_model=None),\n",
       " Model(id='nvidia/llama-3.2-nemoretriever-1b-vlm-embed-v1', model_type=None, client=None, endpoint=None, aliases=None, supports_tools=False, supports_structured_output=False, base_model=None),\n",
       " Model(id='nvidia/llama-3.2-nv-embedqa-1b-v1', model_type='embedding', client='NVIDIAEmbeddings', endpoint=None, aliases=None, supports_tools=False, supports_structured_output=False, base_model=None),\n",
       " Model(id='nvidia/llama-3.2-nv-embedqa-1b-v2', model_type='embedding', client='NVIDIAEmbeddings', endpoint=None, aliases=None, supports_tools=False, supports_structured_output=False, base_model=None),\n",
       " Model(id='nvidia/nv-embed-v1', model_type='embedding', client='NVIDIAEmbeddings', endpoint=None, aliases=['ai-nv-embed-v1'], supports_tools=False, supports_structured_output=False, base_model=None),\n",
       " Model(id='nvidia/nv-embedcode-7b-v1', model_type=None, client=None, endpoint=None, aliases=None, supports_tools=False, supports_structured_output=False, base_model=None),\n",
       " Model(id='nvidia/nv-embedqa-e5-v5', model_type='embedding', client='NVIDIAEmbeddings', endpoint=None, aliases=None, supports_tools=False, supports_structured_output=False, base_model=None),\n",
       " Model(id='nvidia/nv-embedqa-mistral-7b-v2', model_type='embedding', client='NVIDIAEmbeddings', endpoint=None, aliases=None, supports_tools=False, supports_structured_output=False, base_model=None),\n",
       " Model(id='snowflake/arctic-embed-l', model_type='embedding', client='NVIDIAEmbeddings', endpoint=None, aliases=['ai-arctic-embed-l'], supports_tools=False, supports_structured_output=False, base_model=None)]"
      ]
     },
     "execution_count": 2,
     "metadata": {},
     "output_type": "execute_result"
    }
   ],
   "source": [
    "from langchain_nvidia_ai_endpoints import ChatNVIDIA, NVIDIAEmbeddings\n",
    "\n",
    "[m for m in NVIDIAEmbeddings.get_available_models() if \"embed\" in m.id]"
   ]
  },
  {
   "cell_type": "code",
   "execution_count": 3,
   "metadata": {
    "id": "E0cox65gUj3O"
   },
   "outputs": [],
   "source": [
    "from langchain_nvidia_ai_endpoints import ChatNVIDIA, NVIDIAEmbeddings\n",
    "\n",
    "# NVIDIAEmbeddings.get_available_models()\n",
    "# embedder = NVIDIAEmbeddings(model=\"nvidia/nv-embedqa-mistral-7b-v2\")\n",
    "# embedder = NVIDIAEmbeddings(model=\"nvidia/nv-embedqa-e5-v5\")\n",
    "# embedder = NVIDIAEmbeddings(model=\"nvidia/embed-qa-4\")\n",
    "# embedder = NVIDIAEmbeddings(model=\"snowflake/arctic-embed-l\")\n",
    "embedder = NVIDIAEmbeddings(model=\"nvidia/nv-embed-v1\")\n",
    "\n",
    "# ChatNVIDIA.get_available_models()\n",
    "instruct_llm = ChatNVIDIA(model=\"mistralai/mixtral-8x7b-instruct-v0.1\")"
   ]
  },
  {
   "cell_type": "markdown",
   "metadata": {
    "id": "baJff0HGUv9K"
   },
   "source": [
    "### **使用 API 最佳化資料內嵌(Embedding)**\n",
    "\n",
    "\n",
    "利用 LangChain 的 `Embeddings` 介面與 NVIDIAEmbeddings 模型，我們聚焦於同時內嵌(Embedding) **查詢(queries)** 與 **文件(documents)** 兩條路徑。這種區分對於檢索(Retrieval)應用的資料處理與利用方式至關重要：\n",
    "\n",
    "\n",
    "\n",
    "<br>\n",
    "\n",
    "#### **查詢內嵌(Query Embedding)**\n",
    "\n",
    "-   **目的**：設計用於較短或類似問題的內容，如簡單陳述或問題。\n",
    "-   **方法**：使用 `embed_query` 單獨內嵌(Embedding)每個查詢。\n",
    "-   **在檢索(Retrieval)中的角色**：作為「key」以便在文件檢索(Retrieval)框架中搜尋。\n",
    "-   **使用模式**：動態內嵌(Embedding)，即時與已預處理的文件內嵌(Embedding)集合比對。\n",
    "\n",
    "<br>\n",
    "\n",
    "#### **文件內嵌(Document Embedding)**\n",
    "\n",
    "\n",
    "-   **目的**：設計用於較長或回應型內容，包括文件分塊(Chunking)或段落。\n",
    "-   **方法**：使用 `embed_documents` 批次處理文件。\n",
    "-   **在檢索(Retrieval)中的角色**：作為「value」建立可搜尋內容。\n",
    "-   **使用模式**：通常於前處理階段大量內嵌(Embedding)，建立未來查詢用的文件內嵌(Embedding)資料庫。\n",
    "\n",
    "<br>\n",
    "\n",
    "#### **底層相似性與實務應用**\n",
    "\n",
    "\n",
    "雖然應用不同，這兩個過程本質上都將文字(Text)內容轉換為語意豐富的向量表徵。選擇 `embed_query` 或 `embed_documents` 取決於內容性質及其在檢索(Retrieval)系統中的用途。\n",
    "\n",
    "<br>\n",
    "\n",
    "#### **使用範例「查詢」與「文件」探索**\n",
    "\n",
    "讓我們用一組範例查詢與文件來啟動探索，理解這些流程的實際運作。這些範例特意選擇，突顯有趣特性並展示內嵌模型(Embedding Model)在一般文字(Text)分析推理(Reasoning)上的能力。\n",
    "\n",
    "\n",
    "\n",
    "\n"
   ]
  },
  {
   "cell_type": "code",
   "execution_count": 4,
   "metadata": {
    "id": "FQr_-4fjUyZa"
   },
   "outputs": [],
   "source": [
    "# Example queries and documents\n",
    "queries = [\n",
    "    \"What's the weather like in Rocky Mountains?\",\n",
    "    \"What kinds of food is Italy known for?\",\n",
    "    \"What's my name? I bet you don't remember...\",\n",
    "    \"What's the point of life anyways?\",\n",
    "    \"The point of life is to have fun :D\"\n",
    "]\n",
    "\n",
    "documents = [\n",
    "    \"Komchatka's weather is cold, with long, severe winters.\",\n",
    "    \"Italy is famous for pasta, pizza, gelato, and espresso.\",\n",
    "    \"I can't recall personal names, only provide information.\",\n",
    "    \"Life's purpose varies, often seen as personal fulfillment.\",\n",
    "    \"Enjoying life's moments is indeed a wonderful approach.\",\n",
    "]"
   ]
  },
  {
   "cell_type": "markdown",
   "metadata": {
    "id": "_6PPz3YRU4Pn"
   },
   "source": [
    "\n",
    "我們可以透過查詢或文件路徑將這些片段編碼。由於方法簽名(method signatures)因用途而異，語法略有不同："
   ]
  },
  {
   "cell_type": "code",
   "execution_count": 5,
   "metadata": {
    "colab": {
     "base_uri": "https://localhost:8080/"
    },
    "executionInfo": {
     "elapsed": 4346,
     "status": "ok",
     "timestamp": 1703280307941,
     "user": {
      "displayName": "Vadim Kudlay",
      "userId": "00553664172613290122"
     },
     "user_tz": 360
    },
    "id": "64KDS0jgU555",
    "outputId": "bb12a52c-8478-4f3c-fafa-337ffd78b1c0"
   },
   "outputs": [
    {
     "name": "stdout",
     "output_type": "stream",
     "text": [
      "CPU times: user 45.2 ms, sys: 4.51 ms, total: 49.7 ms\n",
      "Wall time: 2.28 s\n"
     ]
    }
   ],
   "source": [
    "%%time\n",
    "# Embedding the queries\n",
    "q_embeddings = [embedder.embed_query(query) for query in queries]\n",
    "\n",
    "# Embedding the documents\n",
    "d_embeddings = embedder.embed_documents(documents)"
   ]
  },
  {
   "cell_type": "markdown",
   "metadata": {
    "id": "n4UEVqS6U7_l"
   },
   "source": [
    "\n",
    "\n",
    "\n",
    "取得內嵌(Embedding)後，我們可以簡單比對相似度，觀察在檢索(Retrieval)任務中哪些文件會被視為合理答案。當資料(Entries)準備好後，執行下方程式碼區塊以視覺化交叉相似度矩陣。"
   ]
  },
  {
   "cell_type": "code",
   "execution_count": 6,
   "metadata": {
    "colab": {
     "base_uri": "https://localhost:8080/",
     "height": 564
    },
    "executionInfo": {
     "elapsed": 2589,
     "status": "ok",
     "timestamp": 1703280310522,
     "user": {
      "displayName": "Vadim Kudlay",
      "userId": "00553664172613290122"
     },
     "user_tz": 360
    },
    "id": "WF3Exs6JU9ky",
    "outputId": "4a97aa87-6e06-42bf-f0ca-1689b0878f92"
   },
   "outputs": [
    {
     "data": {
      "image/png": "[encoded data removed]",
      "text/plain": [
       "<Figure size 800x600 with 2 Axes>"
      ]
     },
     "metadata": {},
     "output_type": "display_data"
    }
   ],
   "source": [
    "import numpy as np\n",
    "import matplotlib.pyplot as plt\n",
    "from sklearn.metrics.pairwise import cosine_similarity\n",
    "\n",
    "def plot_cross_similarity_matrix(emb1, emb2):\n",
    "    # Compute the similarity matrix between embeddings1 and embeddings2\n",
    "    cross_similarity_matrix = cosine_similarity(np.array(emb1), np.array(emb2))\n",
    "\n",
    "    # Plotting the cross-similarity matrix\n",
    "    plt.imshow(cross_similarity_matrix, cmap='Greens', interpolation='nearest')\n",
    "    plt.colorbar()\n",
    "    plt.gca().invert_yaxis()\n",
    "    plt.title(\"Cross-Similarity Matrix\")\n",
    "    plt.grid(True)\n",
    "\n",
    "plt.figure(figsize=(8, 6))\n",
    "plot_cross_similarity_matrix(q_embeddings, d_embeddings)\n",
    "plt.xlabel(\"Query Embeddings\")\n",
    "plt.ylabel(\"Document Embeddings\")\n",
    "plt.show()\n",
    "\n",
    "# queries = [\n",
    "#     \"What's the weather like in the Rocky Mountains?\",\n",
    "#     \"What kinds of food is Italy known for?\",\n",
    "#     \"What's my name? I bet you don't remember...\",\n",
    "#     \"What's the point of life anyways?\",\n",
    "#     \"The point of life is to have fun :D\"]\n",
    "# documents = [\n",
    "#     \"Komchatka's weather is cold, with long, severe winters.\",\n",
    "#     \"Italy is famous for pasta, pizza, gelato, and espresso.\",\n",
    "#     \"I can't recall personal names, only provide information.\",\n",
    "#     \"Life's purpose varies, often seen as personal fulfillment.\",\n",
    "#     \"Enjoying life's moments is indeed a wonderful approach.\"]"
   ]
  },
  {
   "cell_type": "markdown",
   "metadata": {
    "id": "7KJgJi-1pBGv"
   },
   "source": [
    "\n",
    "<br>\n",
    "\n",
    "## **第三部分：[練習]** 合成的但更真實的範例\n",
    "\n",
    "\n",
    "觀察哪些資料(Entries)可被視為良好的輸入/輸出對時，內嵌(Embedding)會有較高相似度。值得一提的是，根據編碼器模型收斂情況，查詢與文件路徑的結果可能有明顯差異，也可能沒有："
   ]
  },
  {
   "cell_type": "code",
   "execution_count": 7,
   "metadata": {
    "colab": {
     "base_uri": "https://localhost:8080/",
     "height": 564
    },
    "executionInfo": {
     "elapsed": 2955,
     "status": "ok",
     "timestamp": 1703280313466,
     "user": {
      "displayName": "Vadim Kudlay",
      "userId": "00553664172613290122"
     },
     "user_tz": 360
    },
    "id": "ug1wCynFVLTu",
    "outputId": "0a2b59ef-6412-4a4c-af3a-cdac1f953e23"
   },
   "outputs": [
    {
     "data": {
      "image/png": "[encoded data removed]",
      "text/plain": [
       "<Figure size 800x600 with 2 Axes>"
      ]
     },
     "metadata": {},
     "output_type": "display_data"
    }
   ],
   "source": [
    "plt.figure(figsize=(8, 6))\n",
    "plot_cross_similarity_matrix(\n",
    "    q_embeddings,\n",
    "    [embedder.embed_query(doc) for doc in documents]\n",
    ")\n",
    "plt.xlabel(\"Query Embeddings (of queries)\")\n",
    "plt.ylabel(\"Query Embeddings (of documents)\")\n",
    "plt.show()"
   ]
  },
  {
   "cell_type": "markdown",
   "metadata": {
    "id": "6PZfE43OVM5i"
   },
   "source": [
    "\n",
    "擁有「雙編碼器(Bi-Encoder)」的一大實用性，在於一般來說即使輸入格式大幅改變，第二個編碼器仍可訓練成與第一個保持一致。為說明這點，我們可以將文件擴展為長篇的(long-form)版本，再進行同樣實驗。"
   ]
  },
  {
   "cell_type": "code",
   "execution_count": 8,
   "metadata": {
    "colab": {
     "base_uri": "https://localhost:8080/"
    },
    "executionInfo": {
     "elapsed": 39297,
     "status": "ok",
     "timestamp": 1703280352758,
     "user": {
      "displayName": "Vadim Kudlay",
      "userId": "00553664172613290122"
     },
     "user_tz": 360
    },
    "id": "WcWDupQoVORf",
    "outputId": "b31815cd-9883-49fb-9aa7-0b3c83b6aeff"
   },
   "outputs": [
    {
     "data": {
      "text/html": [
       "<pre style=\"white-space:pre;overflow-x:auto;line-height:normal;font-family:Menlo,'DejaVu Sans Mono',consolas,'Courier New',monospace\">\n",
       "\n",
       "<span style=\"color: #76b900; text-decoration-color: #76b900; font-weight: bold\">[Query </span><span style=\"color: #008080; text-decoration-color: #008080; font-weight: bold\">1</span><span style=\"color: #76b900; text-decoration-color: #76b900; font-weight: bold\">]</span>\n",
       "</pre>\n"
      ],
      "text/plain": [
       "\n",
       "\n",
       "\u001b[1;38;2;118;185;0m[\u001b[0m\u001b[1;38;2;118;185;0mQuery \u001b[0m\u001b[1;36m1\u001b[0m\u001b[1;38;2;118;185;0m]\u001b[0m\n"
      ]
     },
     "metadata": {},
     "output_type": "display_data"
    },
    {
     "name": "stdout",
     "output_type": "stream",
     "text": [
      "What's the weather like in Rocky Mountains?\n"
     ]
    },
    {
     "data": {
      "text/html": [
       "<pre style=\"white-space:pre;overflow-x:auto;line-height:normal;font-family:Menlo,'DejaVu Sans Mono',consolas,'Courier New',monospace\">\n",
       "\n",
       "<span style=\"color: #76b900; text-decoration-color: #76b900; font-weight: bold\">[Document </span><span style=\"color: #008080; text-decoration-color: #008080; font-weight: bold\">1</span><span style=\"color: #76b900; text-decoration-color: #76b900; font-weight: bold\">]</span>\n",
       "</pre>\n"
      ],
      "text/plain": [
       "\n",
       "\n",
       "\u001b[1;38;2;118;185;0m[\u001b[0m\u001b[1;38;2;118;185;0mDocument \u001b[0m\u001b[1;36m1\u001b[0m\u001b[1;38;2;118;185;0m]\u001b[0m\n"
      ]
     },
     "metadata": {},
     "output_type": "display_data"
    },
    {
     "name": "stdout",
     "output_type": "stream",
     "text": [
      "Weather in the Rocky Mountains can be as unpredictable as a cat on a hot tin roof. One minute, the sun is shining bright, casting a warm, golden glow on the rugged mountain peaks. The next, the sky turns a menacing gray, and snow begins to fall, blanketing the ground in a fresh, white layer. It's a place where you can experience all four seasons in a single day, where the weather can change faster than a hiccup.\n",
      "\n",
      "But despite its unpredictability, there's something undeniably beautiful about the Rocky Mountains' weather. The way the sunlight filters through the clouds, casting dancing shadows on the ground. The sound of rain pelting against the rocks, like a thousand tiny drumbeats. The stillness that falls after a snowstorm, broken only by the occasional howl of the wind. It's a reminder that nature is alive, constantly changing and evolving, and that there's beauty to be found in every moment, every shift, every storm.\n",
      "\n",
      "So, what's the weather like in the Rocky Mountains, you ask? It's a question that can't be answered with a simple answer. It's a place where you'll find sunshine and snow, warmth and cold, all in the same day. It's a place where the weather is as wild and untamed as the mountains themselves, and where every day brings a new adventure, a new experience, a new chance to discover the beauty of the world around you.\n"
     ]
    },
    {
     "data": {
      "text/html": [
       "<pre style=\"white-space:pre;overflow-x:auto;line-height:normal;font-family:Menlo,'DejaVu Sans Mono',consolas,'Courier New',monospace\"><span style=\"color: #76b900; text-decoration-color: #76b900; font-weight: bold\">----------------------------------------------------------------</span>\n",
       "</pre>\n"
      ],
      "text/plain": [
       "\u001b[1;38;2;118;185;0m----------------------------------------------------------------\u001b[0m\n"
      ]
     },
     "metadata": {},
     "output_type": "display_data"
    },
    {
     "data": {
      "text/html": [
       "<pre style=\"white-space:pre;overflow-x:auto;line-height:normal;font-family:Menlo,'DejaVu Sans Mono',consolas,'Courier New',monospace\">\n",
       "\n",
       "<span style=\"color: #76b900; text-decoration-color: #76b900; font-weight: bold\">[Query </span><span style=\"color: #008080; text-decoration-color: #008080; font-weight: bold\">2</span><span style=\"color: #76b900; text-decoration-color: #76b900; font-weight: bold\">]</span>\n",
       "</pre>\n"
      ],
      "text/plain": [
       "\n",
       "\n",
       "\u001b[1;38;2;118;185;0m[\u001b[0m\u001b[1;38;2;118;185;0mQuery \u001b[0m\u001b[1;36m2\u001b[0m\u001b[1;38;2;118;185;0m]\u001b[0m\n"
      ]
     },
     "metadata": {},
     "output_type": "display_data"
    },
    {
     "name": "stdout",
     "output_type": "stream",
     "text": [
      "What kinds of food is Italy known for?\n"
     ]
    },
    {
     "data": {
      "text/html": [
       "<pre style=\"white-space:pre;overflow-x:auto;line-height:normal;font-family:Menlo,'DejaVu Sans Mono',consolas,'Courier New',monospace\">\n",
       "\n",
       "<span style=\"color: #76b900; text-decoration-color: #76b900; font-weight: bold\">[Document </span><span style=\"color: #008080; text-decoration-color: #008080; font-weight: bold\">2</span><span style=\"color: #76b900; text-decoration-color: #76b900; font-weight: bold\">]</span>\n",
       "</pre>\n"
      ],
      "text/plain": [
       "\n",
       "\n",
       "\u001b[1;38;2;118;185;0m[\u001b[0m\u001b[1;38;2;118;185;0mDocument \u001b[0m\u001b[1;36m2\u001b[0m\u001b[1;38;2;118;185;0m]\u001b[0m\n"
      ]
     },
     "metadata": {},
     "output_type": "display_data"
    },
    {
     "name": "stdout",
     "output_type": "stream",
     "text": [
      "We now turn our attention to the boot-shaped peninsula that is Italy. Ah, Italy – a land of beauty, history, and most importantly, food. The culinary traditions of this European gem are renowned the world over, and for good reason. From the sun-soaked vineyards of Tuscany to the bustling markets of Naples, the Italian people have perfected the art of creating dishes that are both simple and sublime.\n",
      "\n",
      "One cannot discuss Italian cuisine without first mentioning pizza. Though it may seem cliche, pizza is a true Italian masterpiece. Made with a thin, crispy crust, tangy tomato sauce, and a variety of delicious toppings, pizza is the perfect food for any occasion. And let's not forget about the cheese – glorious, melted mozzarella that stretches for miles (or at least it seems that way).\n",
      "\n",
      "Of course, pizza is just the tip of the iceberg when it comes to Italian cuisine. Pasta, another staple of the Italian diet, is a versatile and comforting food that can be dressed up or down depending on the occasion. From the classic spaghetti and meatballs to the delicious lasagna, pasta is a dish that never goes out of style.\n",
      "\n",
      "And what about the sauces? Oh, the sauces! From the rich and creamy alfredo to the zesty and bold marinara, Italian sauces are the perfect way to add flavor and depth to any dish.\n",
      "\n",
      "But Italian food is not just about the main courses – it's also about the small, delicious details. From the crispy, golden focaccia bread that is served as an appetizer to the rich, velvety tiramisu that is served for dessert, every aspect of an Italian meal is carefully crafted to delight the senses.\n",
      "\n",
      "So, what is Italy known for? The answer is simple: Italy is known for its delicious, comforting, and hearty cuisine. From pizza and pasta to sauces and desserts, Italian food is a true culinary treasure that will never go out of style.\n"
     ]
    },
    {
     "data": {
      "text/html": [
       "<pre style=\"white-space:pre;overflow-x:auto;line-height:normal;font-family:Menlo,'DejaVu Sans Mono',consolas,'Courier New',monospace\"><span style=\"color: #76b900; text-decoration-color: #76b900; font-weight: bold\">----------------------------------------------------------------</span>\n",
       "</pre>\n"
      ],
      "text/plain": [
       "\u001b[1;38;2;118;185;0m----------------------------------------------------------------\u001b[0m\n"
      ]
     },
     "metadata": {},
     "output_type": "display_data"
    },
    {
     "data": {
      "text/html": [
       "<pre style=\"white-space:pre;overflow-x:auto;line-height:normal;font-family:Menlo,'DejaVu Sans Mono',consolas,'Courier New',monospace\">\n",
       "\n",
       "<span style=\"color: #76b900; text-decoration-color: #76b900; font-weight: bold\">[Query </span><span style=\"color: #008080; text-decoration-color: #008080; font-weight: bold\">3</span><span style=\"color: #76b900; text-decoration-color: #76b900; font-weight: bold\">]</span>\n",
       "</pre>\n"
      ],
      "text/plain": [
       "\n",
       "\n",
       "\u001b[1;38;2;118;185;0m[\u001b[0m\u001b[1;38;2;118;185;0mQuery \u001b[0m\u001b[1;36m3\u001b[0m\u001b[1;38;2;118;185;0m]\u001b[0m\n"
      ]
     },
     "metadata": {},
     "output_type": "display_data"
    },
    {
     "name": "stdout",
     "output_type": "stream",
     "text": [
      "What's my name? I bet you don't remember...\n"
     ]
    },
    {
     "data": {
      "text/html": [
       "<pre style=\"white-space:pre;overflow-x:auto;line-height:normal;font-family:Menlo,'DejaVu Sans Mono',consolas,'Courier New',monospace\">\n",
       "\n",
       "<span style=\"color: #76b900; text-decoration-color: #76b900; font-weight: bold\">[Document </span><span style=\"color: #008080; text-decoration-color: #008080; font-weight: bold\">3</span><span style=\"color: #76b900; text-decoration-color: #76b900; font-weight: bold\">]</span>\n",
       "</pre>\n"
      ],
      "text/plain": [
       "\n",
       "\n",
       "\u001b[1;38;2;118;185;0m[\u001b[0m\u001b[1;38;2;118;185;0mDocument \u001b[0m\u001b[1;36m3\u001b[0m\u001b[1;38;2;118;185;0m]\u001b[0m\n"
      ]
     },
     "metadata": {},
     "output_type": "display_data"
    },
    {
     "name": "stdout",
     "output_type": "stream",
     "text": [
      "\"By the way,\" the strange, disembodied voice echoed through the cool air of the vast Rocky Mountain range, \"what's my name? I bet you don't remember.\"\n",
      "\n",
      "Suddenly, the weather shifted from a calm breeze to a fierce howling wind, as if the very mountains themselves were objecting to the interruption.\n",
      "\n",
      "\"All you need to know is that I am the keeper of secrets, the whisperer in the wind, and the one who guides you on your journey.\"\n",
      "\n",
      "And with that, the voice faded away, leaving only the sound of the wind whistling through the towering peaks of the Rockies.\n",
      "\n",
      "As for the food in Italy, and the meaning of life, those are questions best answered at another time, in another place.\n"
     ]
    },
    {
     "data": {
      "text/html": [
       "<pre style=\"white-space:pre;overflow-x:auto;line-height:normal;font-family:Menlo,'DejaVu Sans Mono',consolas,'Courier New',monospace\"><span style=\"color: #76b900; text-decoration-color: #76b900; font-weight: bold\">----------------------------------------------------------------</span>\n",
       "</pre>\n"
      ],
      "text/plain": [
       "\u001b[1;38;2;118;185;0m----------------------------------------------------------------\u001b[0m\n"
      ]
     },
     "metadata": {},
     "output_type": "display_data"
    },
    {
     "data": {
      "text/html": [
       "<pre style=\"white-space:pre;overflow-x:auto;line-height:normal;font-family:Menlo,'DejaVu Sans Mono',consolas,'Courier New',monospace\">\n",
       "\n",
       "<span style=\"color: #76b900; text-decoration-color: #76b900; font-weight: bold\">[Query </span><span style=\"color: #008080; text-decoration-color: #008080; font-weight: bold\">4</span><span style=\"color: #76b900; text-decoration-color: #76b900; font-weight: bold\">]</span>\n",
       "</pre>\n"
      ],
      "text/plain": [
       "\n",
       "\n",
       "\u001b[1;38;2;118;185;0m[\u001b[0m\u001b[1;38;2;118;185;0mQuery \u001b[0m\u001b[1;36m4\u001b[0m\u001b[1;38;2;118;185;0m]\u001b[0m\n"
      ]
     },
     "metadata": {},
     "output_type": "display_data"
    },
    {
     "name": "stdout",
     "output_type": "stream",
     "text": [
      "What's the point of life anyways?\n"
     ]
    },
    {
     "data": {
      "text/html": [
       "<pre style=\"white-space:pre;overflow-x:auto;line-height:normal;font-family:Menlo,'DejaVu Sans Mono',consolas,'Courier New',monospace\">\n",
       "\n",
       "<span style=\"color: #76b900; text-decoration-color: #76b900; font-weight: bold\">[Document </span><span style=\"color: #008080; text-decoration-color: #008080; font-weight: bold\">4</span><span style=\"color: #76b900; text-decoration-color: #76b900; font-weight: bold\">]</span>\n",
       "</pre>\n"
      ],
      "text/plain": [
       "\n",
       "\n",
       "\u001b[1;38;2;118;185;0m[\u001b[0m\u001b[1;38;2;118;185;0mDocument \u001b[0m\u001b[1;36m4\u001b[0m\u001b[1;38;2;118;185;0m]\u001b[0m\n"
      ]
     },
     "metadata": {},
     "output_type": "display_data"
    },
    {
     "name": "stdout",
     "output_type": "stream",
     "text": [
      "Life's Purpose Revealed:\n",
      "Have you ever wondered about the meaning of it all? Why are we here? What's the point of life anyways? Well, search no more, for the answer has been revealed at last! Are you ready for it? Here it is:\n",
      "\n",
      "\"The point of life is to have fun :D\"\n",
      "\n",
      "That's right! The whole purpose of life is to enjoy yourself, to savor the experiences, and to make the most of your time on this strange and beautiful planet we call home.\n",
      "\n",
      "But, wait, you might be thinking, \"What about my name? Do you remember it?\" or \"What's the weather like in the Rocky Mountains?\" or \"What kinds of food is Italy known for?\"\n",
      "\n",
      "Well, those questions are interesting and all, but they're not quite as important as figuring out the meaning of life. Besides, you didn't ask me those questions, so I didn't feel obligated to answer them.\n",
      "\n",
      "But, just in case you're curious, here's a little tidbit about the weather in the Rocky Mountains: it can be unpredictable, with sudden changes in temperature and precipitation. Oh, and as for Italian food, Italy is known for its delicious and varied cuisine, with pizza, pasta, and gelato being just a few of its most famous dishes.\n",
      "\n",
      "Anyway, back to the main topic: the purpose of life. So, there you have it, my friend! The point of life is to have fun, to explore, to learn, and to grow. So, go forth and enjoy yourself, and don't forget to smile! :D\n"
     ]
    },
    {
     "data": {
      "text/html": [
       "<pre style=\"white-space:pre;overflow-x:auto;line-height:normal;font-family:Menlo,'DejaVu Sans Mono',consolas,'Courier New',monospace\"><span style=\"color: #76b900; text-decoration-color: #76b900; font-weight: bold\">----------------------------------------------------------------</span>\n",
       "</pre>\n"
      ],
      "text/plain": [
       "\u001b[1;38;2;118;185;0m----------------------------------------------------------------\u001b[0m\n"
      ]
     },
     "metadata": {},
     "output_type": "display_data"
    },
    {
     "data": {
      "text/html": [
       "<pre style=\"white-space:pre;overflow-x:auto;line-height:normal;font-family:Menlo,'DejaVu Sans Mono',consolas,'Courier New',monospace\">\n",
       "\n",
       "<span style=\"color: #76b900; text-decoration-color: #76b900; font-weight: bold\">[Query </span><span style=\"color: #008080; text-decoration-color: #008080; font-weight: bold\">5</span><span style=\"color: #76b900; text-decoration-color: #76b900; font-weight: bold\">]</span>\n",
       "</pre>\n"
      ],
      "text/plain": [
       "\n",
       "\n",
       "\u001b[1;38;2;118;185;0m[\u001b[0m\u001b[1;38;2;118;185;0mQuery \u001b[0m\u001b[1;36m5\u001b[0m\u001b[1;38;2;118;185;0m]\u001b[0m\n"
      ]
     },
     "metadata": {},
     "output_type": "display_data"
    },
    {
     "name": "stdout",
     "output_type": "stream",
     "text": [
      "The point of life is to have fun :D\n"
     ]
    },
    {
     "data": {
      "text/html": [
       "<pre style=\"white-space:pre;overflow-x:auto;line-height:normal;font-family:Menlo,'DejaVu Sans Mono',consolas,'Courier New',monospace\">\n",
       "\n",
       "<span style=\"color: #76b900; text-decoration-color: #76b900; font-weight: bold\">[Document </span><span style=\"color: #008080; text-decoration-color: #008080; font-weight: bold\">5</span><span style=\"color: #76b900; text-decoration-color: #76b900; font-weight: bold\">]</span>\n",
       "</pre>\n"
      ],
      "text/plain": [
       "\n",
       "\n",
       "\u001b[1;38;2;118;185;0m[\u001b[0m\u001b[1;38;2;118;185;0mDocument \u001b[0m\u001b[1;36m5\u001b[0m\u001b[1;38;2;118;185;0m]\u001b[0m\n"
      ]
     },
     "metadata": {},
     "output_type": "display_data"
    },
    {
     "name": "stdout",
     "output_type": "stream",
     "text": [
      "life's purpose: to have fun :D\n",
      "\n",
      "\"So, what's the deal with the meaning of life?\" you ask, leaning back in your chair with a contemplative expression. The room is filled with a comfortable silence, punctuated only by the occasional clink of dishware and the distant hum of a coffee grinder.\n",
      "\n",
      "I take a deep breath, savoring the rich aroma of freshly brewed coffee that fills the air. It's a small moment of joy, a fleeting pleasure that adds a touch of color to the tapestry of existence. And that, I realize, is the answer to your question.\n",
      "\n",
      "\"The point of life is to have fun,\" I say, my voice filled with a certainty that seems to surprise even me. \"It's about finding joy in the little things, seeking out new experiences, and cherishing the connections we make with others.\"\n",
      "\n",
      "A smile spreads across your face, and I can see the wheels turning in your mind as you consider my words. It's a simple answer, perhaps, but one that has the power to transform our lives in profound ways.\n",
      "\n",
      "life's purpose: to have fun :D\n",
      "\n",
      "As we finish our coffees and continue our conversation, I can't help but feel a sense of excitement and anticipation. The world is full of possibilities, and by embracing the idea that life's purpose is to have fun, we open ourselves up to a world of adventure, laughter, and unforgettable moments.\n",
      "\n",
      "So go ahead, dear reader. Find your joy, chase your dreams, and connect with those around you. Life is a beautiful, messy, and exhilarating journey, and it's up to us to make the most of it.\n",
      "\n",
      "life's purpose: to have fun :D\n",
      "\n",
      "RCV:7aSXD89&&%%^^&H123vbnm,kj\n",
      "\n",
      "life's purpose: to have fun :D\n"
     ]
    },
    {
     "data": {
      "text/html": [
       "<pre style=\"white-space:pre;overflow-x:auto;line-height:normal;font-family:Menlo,'DejaVu Sans Mono',consolas,'Courier New',monospace\"><span style=\"color: #76b900; text-decoration-color: #76b900; font-weight: bold\">----------------------------------------------------------------</span>\n",
       "</pre>\n"
      ],
      "text/plain": [
       "\u001b[1;38;2;118;185;0m----------------------------------------------------------------\u001b[0m\n"
      ]
     },
     "metadata": {},
     "output_type": "display_data"
    }
   ],
   "source": [
    "from langchain_nvidia_ai_endpoints import ChatNVIDIA\n",
    "from langchain_core.prompts import ChatPromptTemplate\n",
    "from langchain_core.output_parsers import StrOutputParser\n",
    "from operator import itemgetter\n",
    "\n",
    "# embedder = NVIDIAEmbeddings(model=\"ai-embed-qa-4\")\n",
    "# instruct_llm = ChatNVIDIA(model=\"ai-mixtral-8x7b-instruct\")\n",
    "\n",
    "expound_prompt = ChatPromptTemplate.from_template(\n",
    "    \"Generate part of a longer story that could reasonably answer all\"\n",
    "    \" of these questions somewhere in its contents: {questions}\\n\"\n",
    "    \" Make sure the passage only answers the following concretely: {q1}.\"\n",
    "    \" Give it some weird formatting, and try not to answer the others.\"\n",
    "    \" Do not include any commentary like 'Here is your response'\"\n",
    ")\n",
    "\n",
    "###############################################################################################\n",
    "## BEGIN TODO\n",
    "\n",
    "expound_chain = (\n",
    "    ## TODO: flesh out documents into a more verbose form by implementing the expound_chain \n",
    "    ##  which takes advantage of the prompt and llm provided above.\n",
    "    {}\n",
    ")\n",
    "\n",
    "expound_chain = (\n",
    "    {'q1' : itemgetter(0), 'questions' : itemgetter(1)} \n",
    "    | expound_prompt \n",
    "    | instruct_llm\n",
    "    | StrOutputParser()\n",
    ")\n",
    "\n",
    "longer_docs = []\n",
    "for i, q in enumerate(queries):\n",
    "    ## TODO: Invoke the expound_chain pipeline as appropriate\n",
    "    longer_doc = \"\"\n",
    "    longer_doc = expound_chain.invoke([q, queries])\n",
    "    pprint(f\"\\n\\n[Query {i+1}]\")\n",
    "    print(q)\n",
    "    pprint(f\"\\n\\n[Document {i+1}]\")\n",
    "    print(longer_doc)\n",
    "    pprint(\"-\"*64)\n",
    "    longer_docs += [longer_doc]\n",
    "\n",
    "## END TODO\n",
    "###############################################################################################"
   ]
  },
  {
   "cell_type": "markdown",
   "metadata": {
    "id": "EnMf8OoeVQJU"
   },
   "source": [
    "\n",
    "\n",
    "當您對長篇的(long-form)文件滿意後，請執行下方程式碼，比較內嵌(Embedding)結果。結果可能類似，但至少有某種數學最佳化的關聯，有助於在大規模檢索(Retrieval)中提升效果。這也會因雙編碼器(Bi-Encoder)模型而異，請留意。\n",
    "\n",
    "一般來說，在推薦的使用情境(advertised use case)下， 預設應選用相反(opposite)的編碼器，若比較的內容形式與型態接近，則可考慮使用相同編碼器。本次測試模型的兩種選項結果差異不大，但仍值得注意。"
   ]
  },
  {
   "cell_type": "code",
   "execution_count": 9,
   "metadata": {
    "colab": {
     "base_uri": "https://localhost:8080/",
     "height": 499
    },
    "executionInfo": {
     "elapsed": 6551,
     "status": "ok",
     "timestamp": 1703280359298,
     "user": {
      "displayName": "Vadim Kudlay",
      "userId": "00553664172613290122"
     },
     "user_tz": 360
    },
    "id": "9dNLQoGdVRnV",
    "outputId": "3e891ae7-4795-4887-dbf2-3789ba1035f0"
   },
   "outputs": [
    {
     "data": {
      "image/png": "[encoded data removed]",
      "text/plain": [
       "<Figure size 1200x600 with 4 Axes>"
      ]
     },
     "metadata": {},
     "output_type": "display_data"
    }
   ],
   "source": [
    "## At the time of writing, our embedding model supports up to 2048 tokens...\n",
    "longer_docs_cut = [doc[:2048] for doc in longer_docs]\n",
    "\n",
    "q_long_embs = [embedder._embed([doc], model_type='query')[0] for doc in longer_docs_cut]\n",
    "d_long_embs = [embedder._embed([doc], model_type='passage')[0] for doc in longer_docs_cut]\n",
    "\n",
    "## The difference for any particular example may be very small.\n",
    "## We've raised the similarity matrix to the power of 5 to try and spot a difference.\n",
    "plt.figure(figsize=(12, 6))\n",
    "plt.subplot(1, 2, 1)\n",
    "plot_cross_similarity_matrix(q_embeddings, q_long_embs)\n",
    "plt.xlabel(\"Query Embeddings (of queries)\")\n",
    "plt.ylabel(\"Query Embeddings (of long documents)\")\n",
    "\n",
    "plt.subplot(1, 2, 2)\n",
    "plot_cross_similarity_matrix(q_embeddings, d_long_embs)\n",
    "plt.xlabel(\"Query Embeddings (of queries)\")\n",
    "plt.ylabel(\"Document Embeddings (of long documents)\")\n",
    "plt.show()"
   ]
  },
  {
   "cell_type": "markdown",
   "metadata": {
    "id": "b4ZQa2eRnx3C"
   },
   "source": [
    "<br>\n",
    "\n",
    "\n",
    "\n",
    "**注意：** 若想觀察兩個截然不同的雙編碼器(Bi-Encoder)元件，請參考 [CLIP 對比式語言-影像預訓練模型](https://openai.com/index/clip/)。這對雙編碼器(Bi-Encoder)在影像與文字(Text)模態間同步化(Synergized)，而非僅查詢與文件。"
   ]
  },
  {
   "cell_type": "markdown",
   "metadata": {
    "id": "jjP76N4o1bUi"
   },
   "source": [
    "\n",
    "\n",
    "<br>\n",
    "\n",
    "## **第四部分：[練習]** 內嵌(Embedding)於語意護欄(Guardrails)\n",
    "\n",
    "\n",
    "在下一本 notebook，我們將開始使用更高階的實用工具，這些工具會在底層調用內嵌模型(Embedding Model)。在此之前，還有幾個重要概念可趁著對底層方法還新鮮時探索！\n",
    "\n",
    "具體來說，內嵌(Embedding)可作為正式環境(Production)模型關鍵元件的骨幹： **語意護欄(Guardrails)** 。我們可以利用內嵌(Embedding)過濾掉對聊天機器人無用（甚至有害）的訊息！\n",
    "\n",
    "**本練習已分割至 [**`64_guardrails.ipynb`**](64_guardrails.ipynb)。**"
   ]
  },
  {
   "cell_type": "markdown",
   "metadata": {
    "id": "k0fFoZEVnI94"
   },
   "source": [
    "\n",
    "\n",
    "## **第五部分：** 總結\n",
    "\n",
    "\n",
    "完成本 notebook 後，您應該已熟悉語意內嵌模型(Embedding Model)的價值主張，並了解如何運用它在資料集內搜尋相關資訊！\n",
    "\n",
    "### <font color=\"#76b900\">**做得很好！**</font>\n",
    "\n",
    "### **下一步：**\n",
    "\n",
    "\n",
    "1.  **[可選]** 重新訪問(Navigate) notebook 頂部的**「值得思考的問題」部分**，並思考一些可能的答案。\n",
    "2.  **[進階]** 若有時間，請參考並嘗試完成 **Notebook 6.4**，涵蓋語意護欄(Guardrails)。\n",
    "3.  繼續觀看下一部影片，主題為 **向量存儲庫(Vector Store)檢索(Retrieval)** 。\n",
    "4.  影片後，進入對應的**向量存儲庫(Vector Store)檢索(Retrieval)** notebook。"
   ]
  },
  {
   "cell_type": "markdown",
   "metadata": {
    "id": "nZynySFaVuLs"
   },
   "source": [
    "<center><a href=\"https://www.nvidia.com/en-us/training/\"><img src=\"https://dli-lms.s3.amazonaws.com/assets/general/DLI_Header_White.png\" width=\"400\" height=\"186\" /></a></center>\n",
    "\n"
   ]
  }
 ],
 "metadata": {
  "colab": {
   "provenance": []
  },
  "kernelspec": {
   "display_name": "Python 3 (ipykernel)",
   "language": "python",
   "name": "python3"
  },
  "language_info": {
   "codemirror_mode": {
    "name": "ipython",
    "version": 3
   },
   "file_extension": ".py",
   "mimetype": "text/x-python",
   "name": "python",
   "nbconvert_exporter": "python",
   "pygments_lexer": "ipython3",
   "version": "3.11.13"
  }
 },
 "nbformat": 4,
 "nbformat_minor": 4
}
